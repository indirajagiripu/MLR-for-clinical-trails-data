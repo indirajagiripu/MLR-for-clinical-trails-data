{
 "cells": [
  {
   "cell_type": "markdown",
   "metadata": {},
   "source": [
    "# Importing Libraries"
   ]
  },
  {
   "cell_type": "code",
   "execution_count": 468,
   "metadata": {},
   "outputs": [],
   "source": [
    "import numpy as np\n",
    "import matplotlib.pyplot as plt\n",
    "import seaborn as sns\n",
    "import pandas as pd\n",
    "%matplotlib inline\n",
    "from sklearn.model_selection import train_test_split\n",
    "from sklearn import preprocessing\n",
    "from sklearn.preprocessing import StandardScaler\n",
    "%matplotlib inline\n",
    "from sklearn.linear_model import LinearRegression\n",
    "from sklearn import metrics\n",
    "import warnings\n",
    "warnings.filterwarnings('ignore')"
   ]
  },
  {
   "cell_type": "markdown",
   "metadata": {},
   "source": [
    "# Importing dataset\n"
   ]
  },
  {
   "cell_type": "code",
   "execution_count": 469,
   "metadata": {},
   "outputs": [],
   "source": [
    "fi = 'respiratory.xlsx'\n",
    "df = pd.read_excel (fi)"
   ]
  },
  {
   "cell_type": "markdown",
   "metadata": {},
   "source": [
    "# Overview of the dataset\n"
   ]
  },
  {
   "cell_type": "code",
   "execution_count": 470,
   "metadata": {},
   "outputs": [],
   "source": [
    "df.columns = df.columns.str.replace(' ', '') # to remove white spaces"
   ]
  },
  {
   "cell_type": "code",
   "execution_count": 471,
   "metadata": {},
   "outputs": [],
   "source": [
    "# To show the all columns\n",
    "pd.set_option(\"display.max_columns\", 2000)\n",
    "pd.set_option(\"display.max_rows\", 85)"
   ]
  },
  {
   "cell_type": "code",
   "execution_count": 472,
   "metadata": {},
   "outputs": [
    {
     "data": {
      "text/html": [
       "<div>\n",
       "<style scoped>\n",
       "    .dataframe tbody tr th:only-of-type {\n",
       "        vertical-align: middle;\n",
       "    }\n",
       "\n",
       "    .dataframe tbody tr th {\n",
       "        vertical-align: top;\n",
       "    }\n",
       "\n",
       "    .dataframe thead th {\n",
       "        text-align: right;\n",
       "    }\n",
       "</style>\n",
       "<table border=\"1\" class=\"dataframe\">\n",
       "  <thead>\n",
       "    <tr style=\"text-align: right;\">\n",
       "      <th></th>\n",
       "      <th>Rank</th>\n",
       "      <th>NCTNumber</th>\n",
       "      <th>Title</th>\n",
       "      <th>Acronym</th>\n",
       "      <th>Status</th>\n",
       "      <th>StudyResults</th>\n",
       "      <th>Conditions</th>\n",
       "      <th>Interventions</th>\n",
       "      <th>OutcomeMeasures</th>\n",
       "      <th>Sponsor/Collaborators</th>\n",
       "      <th>Gender</th>\n",
       "      <th>Age</th>\n",
       "      <th>Phases</th>\n",
       "      <th>Enrollment</th>\n",
       "      <th>FundedBys</th>\n",
       "      <th>StudyType</th>\n",
       "      <th>StudyDesigns</th>\n",
       "      <th>studydesign(final)</th>\n",
       "      <th>OtherIDs</th>\n",
       "      <th>StartDate(m)</th>\n",
       "      <th>startdate(d)</th>\n",
       "      <th>startdate(y)</th>\n",
       "      <th>startdate(final)-1</th>\n",
       "      <th>PrimaryCompletionDate(m)</th>\n",
       "      <th>primarycompletiondate(m)</th>\n",
       "      <th>primarycompletiondate(y)</th>\n",
       "      <th>primarycompletionfinal-2</th>\n",
       "      <th>CompletionDate(m)</th>\n",
       "      <th>completedate(d)</th>\n",
       "      <th>completedate(y)</th>\n",
       "      <th>completiondate(final)-3</th>\n",
       "      <th>FirstPosted(m)</th>\n",
       "      <th>firstposted(d)</th>\n",
       "      <th>firstposted(y)</th>\n",
       "      <th>firstpostedfinal-4</th>\n",
       "      <th>ResultsFirstPosted(m)</th>\n",
       "      <th>resultsfirstposted(d)</th>\n",
       "      <th>resultsfirstposted(y)</th>\n",
       "      <th>resultsfirstpostedfinal-5</th>\n",
       "      <th>LastUpdatePosted</th>\n",
       "      <th>Locations</th>\n",
       "      <th>StudyDocuments</th>\n",
       "      <th>URL</th>\n",
       "      <th>noofdays(1-3)</th>\n",
       "      <th>noofdays(1-2)</th>\n",
       "      <th>noofdays(1-4)</th>\n",
       "      <th>noofdays(2-3)</th>\n",
       "      <th>noofdays(4-2)</th>\n",
       "      <th>noofdays(4-3)</th>\n",
       "      <th>noofdays(1-5)</th>\n",
       "      <th>noofdays(2-5)</th>\n",
       "      <th>noofdays(3-5)</th>\n",
       "      <th>noofdays(4-5)</th>\n",
       "    </tr>\n",
       "  </thead>\n",
       "  <tbody>\n",
       "    <tr>\n",
       "      <td>0</td>\n",
       "      <td>3</td>\n",
       "      <td>NCT00951808</td>\n",
       "      <td>Preventing Acute Chest Syndrome by Transfusion...</td>\n",
       "      <td>PROACTIVE</td>\n",
       "      <td>Completed</td>\n",
       "      <td>Has Results</td>\n",
       "      <td>Sickle Cell Disease</td>\n",
       "      <td>Biological: Single blood transfusion|Behaviora...</td>\n",
       "      <td>Acute Chest Syndrome</td>\n",
       "      <td>HealthCore-NERI|National Heart, Lung, and Bloo...</td>\n",
       "      <td>All</td>\n",
       "      <td>2 Years and older Â  (Child, Adult, Older Adult)</td>\n",
       "      <td>Not Applicable</td>\n",
       "      <td>237</td>\n",
       "      <td>Other|NIH</td>\n",
       "      <td>Interventional</td>\n",
       "      <td>Allocation: Randomized|Intervention Model: Par...</td>\n",
       "      <td>Allocation</td>\n",
       "      <td>668|U10HL083721</td>\n",
       "      <td>1</td>\n",
       "      <td>7</td>\n",
       "      <td>2009</td>\n",
       "      <td>2009-01-07 00:00:00</td>\n",
       "      <td>1</td>\n",
       "      <td>6</td>\n",
       "      <td>2010</td>\n",
       "      <td>6-1-2010</td>\n",
       "      <td>1</td>\n",
       "      <td>7</td>\n",
       "      <td>2010</td>\n",
       "      <td>2010-01-07 00:00:00</td>\n",
       "      <td>8</td>\n",
       "      <td>4</td>\n",
       "      <td>2009</td>\n",
       "      <td>4-8-2009</td>\n",
       "      <td>4</td>\n",
       "      <td>5</td>\n",
       "      <td>2013</td>\n",
       "      <td>5-4-2013</td>\n",
       "      <td>April 24, 2013</td>\n",
       "      <td>Children's Hospital and Research Center, Oakla...</td>\n",
       "      <td>NaN</td>\n",
       "      <td>https://ClinicalTrials.gov/show/NCT00951808</td>\n",
       "      <td>360</td>\n",
       "      <td>359</td>\n",
       "      <td>207</td>\n",
       "      <td>1</td>\n",
       "      <td>152</td>\n",
       "      <td>153</td>\n",
       "      <td>1528</td>\n",
       "      <td>1169</td>\n",
       "      <td>1168</td>\n",
       "      <td>1981</td>\n",
       "    </tr>\n",
       "    <tr>\n",
       "      <td>1</td>\n",
       "      <td>5</td>\n",
       "      <td>NCT02697240</td>\n",
       "      <td>A Phase 1 Study of Continuous Intravenous L-ci...</td>\n",
       "      <td>NaN</td>\n",
       "      <td>Completed</td>\n",
       "      <td>Has Results</td>\n",
       "      <td>Sickle Cell Disease</td>\n",
       "      <td>Drug: Intravenous citrulline</td>\n",
       "      <td>Number of Participants With Adverse Events|Pla...</td>\n",
       "      <td>University of Mississippi Medical Center</td>\n",
       "      <td>All</td>\n",
       "      <td>6 Years to 50 Years Â  (Child, Adult)</td>\n",
       "      <td>Phase 1</td>\n",
       "      <td>4</td>\n",
       "      <td>Other</td>\n",
       "      <td>Interventional</td>\n",
       "      <td>Intervention Model: Single Group Assignment|Ma...</td>\n",
       "      <td>Intervention</td>\n",
       "      <td>2014-0230</td>\n",
       "      <td>1</td>\n",
       "      <td>2</td>\n",
       "      <td>2016</td>\n",
       "      <td>2016-01-02 00:00:00</td>\n",
       "      <td>1</td>\n",
       "      <td>4</td>\n",
       "      <td>2017</td>\n",
       "      <td>4-1-2017</td>\n",
       "      <td>1</td>\n",
       "      <td>4</td>\n",
       "      <td>2017</td>\n",
       "      <td>2017-01-04 00:00:00</td>\n",
       "      <td>3</td>\n",
       "      <td>3</td>\n",
       "      <td>2016</td>\n",
       "      <td>3-3-2016</td>\n",
       "      <td>4</td>\n",
       "      <td>17</td>\n",
       "      <td>2019</td>\n",
       "      <td>17-4-2019</td>\n",
       "      <td>June 25, 2019</td>\n",
       "      <td>University of Mississippi Medical Center, Jack...</td>\n",
       "      <td>\"Study Protocol and Statistical Analysis Plan\"...</td>\n",
       "      <td>https://ClinicalTrials.gov/show/NCT02697240</td>\n",
       "      <td>362</td>\n",
       "      <td>362</td>\n",
       "      <td>61</td>\n",
       "      <td>0</td>\n",
       "      <td>301</td>\n",
       "      <td>301</td>\n",
       "      <td>1185</td>\n",
       "      <td>823</td>\n",
       "      <td>823</td>\n",
       "      <td>1987</td>\n",
       "    </tr>\n",
       "  </tbody>\n",
       "</table>\n",
       "</div>"
      ],
      "text/plain": [
       "   Rank    NCTNumber                                              Title  \\\n",
       "0     3  NCT00951808  Preventing Acute Chest Syndrome by Transfusion...   \n",
       "1     5  NCT02697240  A Phase 1 Study of Continuous Intravenous L-ci...   \n",
       "\n",
       "     Acronym     Status StudyResults           Conditions  \\\n",
       "0  PROACTIVE  Completed  Has Results  Sickle Cell Disease   \n",
       "1        NaN  Completed  Has Results  Sickle Cell Disease   \n",
       "\n",
       "                                       Interventions  \\\n",
       "0  Biological: Single blood transfusion|Behaviora...   \n",
       "1                       Drug: Intravenous citrulline   \n",
       "\n",
       "                                     OutcomeMeasures  \\\n",
       "0                               Acute Chest Syndrome   \n",
       "1  Number of Participants With Adverse Events|Pla...   \n",
       "\n",
       "                               Sponsor/Collaborators Gender  \\\n",
       "0  HealthCore-NERI|National Heart, Lung, and Bloo...    All   \n",
       "1           University of Mississippi Medical Center    All   \n",
       "\n",
       "                                                Age          Phases  \\\n",
       "0  2 Years and older Â  (Child, Adult, Older Adult)  Not Applicable   \n",
       "1             6 Years to 50 Years Â  (Child, Adult)         Phase 1   \n",
       "\n",
       "   Enrollment  FundedBys       StudyType  \\\n",
       "0         237  Other|NIH  Interventional   \n",
       "1           4      Other  Interventional   \n",
       "\n",
       "                                        StudyDesigns studydesign(final)  \\\n",
       "0  Allocation: Randomized|Intervention Model: Par...         Allocation   \n",
       "1  Intervention Model: Single Group Assignment|Ma...       Intervention   \n",
       "\n",
       "          OtherIDs  StartDate(m)  startdate(d)  startdate(y)  \\\n",
       "0  668|U10HL083721             1             7          2009   \n",
       "1        2014-0230             1             2          2016   \n",
       "\n",
       "    startdate(final)-1  PrimaryCompletionDate(m)  primarycompletiondate(m)  \\\n",
       "0  2009-01-07 00:00:00                         1                         6   \n",
       "1  2016-01-02 00:00:00                         1                         4   \n",
       "\n",
       "   primarycompletiondate(y) primarycompletionfinal-2  CompletionDate(m)  \\\n",
       "0                      2010                 6-1-2010                  1   \n",
       "1                      2017                 4-1-2017                  1   \n",
       "\n",
       "   completedate(d)  completedate(y) completiondate(final)-3  FirstPosted(m)  \\\n",
       "0                7             2010     2010-01-07 00:00:00               8   \n",
       "1                4             2017     2017-01-04 00:00:00               3   \n",
       "\n",
       "   firstposted(d)  firstposted(y) firstpostedfinal-4  ResultsFirstPosted(m)  \\\n",
       "0               4            2009           4-8-2009                      4   \n",
       "1               3            2016           3-3-2016                      4   \n",
       "\n",
       "   resultsfirstposted(d)  resultsfirstposted(y) resultsfirstpostedfinal-5  \\\n",
       "0                      5                   2013                  5-4-2013   \n",
       "1                     17                   2019                 17-4-2019   \n",
       "\n",
       "  LastUpdatePosted                                          Locations  \\\n",
       "0   April 24, 2013  Children's Hospital and Research Center, Oakla...   \n",
       "1    June 25, 2019  University of Mississippi Medical Center, Jack...   \n",
       "\n",
       "                                      StudyDocuments  \\\n",
       "0                                                NaN   \n",
       "1  \"Study Protocol and Statistical Analysis Plan\"...   \n",
       "\n",
       "                                           URL  noofdays(1-3)  noofdays(1-2)  \\\n",
       "0  https://ClinicalTrials.gov/show/NCT00951808            360            359   \n",
       "1  https://ClinicalTrials.gov/show/NCT02697240            362            362   \n",
       "\n",
       "   noofdays(1-4)  noofdays(2-3)  noofdays(4-2)  noofdays(4-3)  noofdays(1-5)  \\\n",
       "0            207              1            152            153           1528   \n",
       "1             61              0            301            301           1185   \n",
       "\n",
       "   noofdays(2-5)  noofdays(3-5)  noofdays(4-5)  \n",
       "0           1169           1168           1981  \n",
       "1            823            823           1987  "
      ]
     },
     "execution_count": 472,
     "metadata": {},
     "output_type": "execute_result"
    }
   ],
   "source": [
    "df.head(2) # view of first five records"
   ]
  },
  {
   "cell_type": "code",
   "execution_count": 473,
   "metadata": {},
   "outputs": [],
   "source": [
    "dataset=df[['FundedBys','noofdays(1-2)','noofdays(4-3)','Phases','noofdays(1-3)','Enrollment']]"
   ]
  },
  {
   "cell_type": "code",
   "execution_count": 474,
   "metadata": {},
   "outputs": [
    {
     "data": {
      "text/html": [
       "<div>\n",
       "<style scoped>\n",
       "    .dataframe tbody tr th:only-of-type {\n",
       "        vertical-align: middle;\n",
       "    }\n",
       "\n",
       "    .dataframe tbody tr th {\n",
       "        vertical-align: top;\n",
       "    }\n",
       "\n",
       "    .dataframe thead th {\n",
       "        text-align: right;\n",
       "    }\n",
       "</style>\n",
       "<table border=\"1\" class=\"dataframe\">\n",
       "  <thead>\n",
       "    <tr style=\"text-align: right;\">\n",
       "      <th></th>\n",
       "      <th>FundedBys</th>\n",
       "      <th>noofdays(1-2)</th>\n",
       "      <th>noofdays(4-3)</th>\n",
       "      <th>Phases</th>\n",
       "      <th>noofdays(1-3)</th>\n",
       "      <th>Enrollment</th>\n",
       "    </tr>\n",
       "  </thead>\n",
       "  <tbody>\n",
       "    <tr>\n",
       "      <td>0</td>\n",
       "      <td>Other|NIH</td>\n",
       "      <td>359</td>\n",
       "      <td>153</td>\n",
       "      <td>Not Applicable</td>\n",
       "      <td>360</td>\n",
       "      <td>237</td>\n",
       "    </tr>\n",
       "    <tr>\n",
       "      <td>1</td>\n",
       "      <td>Other</td>\n",
       "      <td>362</td>\n",
       "      <td>301</td>\n",
       "      <td>Phase 1</td>\n",
       "      <td>362</td>\n",
       "      <td>4</td>\n",
       "    </tr>\n",
       "    <tr>\n",
       "      <td>2</td>\n",
       "      <td>Other</td>\n",
       "      <td>1308</td>\n",
       "      <td>1911</td>\n",
       "      <td>Phase 3</td>\n",
       "      <td>2302</td>\n",
       "      <td>40</td>\n",
       "    </tr>\n",
       "    <tr>\n",
       "      <td>3</td>\n",
       "      <td>Other|Industry</td>\n",
       "      <td>1079</td>\n",
       "      <td>1024</td>\n",
       "      <td>Phase 2</td>\n",
       "      <td>1079</td>\n",
       "      <td>33</td>\n",
       "    </tr>\n",
       "    <tr>\n",
       "      <td>4</td>\n",
       "      <td>Other</td>\n",
       "      <td>1441</td>\n",
       "      <td>1065</td>\n",
       "      <td>Not Applicable</td>\n",
       "      <td>1441</td>\n",
       "      <td>12</td>\n",
       "    </tr>\n",
       "    <tr>\n",
       "      <td>5</td>\n",
       "      <td>Other</td>\n",
       "      <td>1803</td>\n",
       "      <td>1878</td>\n",
       "      <td>Phase 2|Phase 3</td>\n",
       "      <td>1804</td>\n",
       "      <td>43</td>\n",
       "    </tr>\n",
       "    <tr>\n",
       "      <td>6</td>\n",
       "      <td>Other|NIH</td>\n",
       "      <td>1392</td>\n",
       "      <td>1350</td>\n",
       "      <td>Phase 2</td>\n",
       "      <td>1444</td>\n",
       "      <td>170</td>\n",
       "    </tr>\n",
       "    <tr>\n",
       "      <td>7</td>\n",
       "      <td>Other|NIH</td>\n",
       "      <td>355</td>\n",
       "      <td>697</td>\n",
       "      <td>Phase 1</td>\n",
       "      <td>715</td>\n",
       "      <td>9</td>\n",
       "    </tr>\n",
       "    <tr>\n",
       "      <td>8</td>\n",
       "      <td>Other|NIH</td>\n",
       "      <td>1074</td>\n",
       "      <td>895</td>\n",
       "      <td>Phase 2</td>\n",
       "      <td>1081</td>\n",
       "      <td>90</td>\n",
       "    </tr>\n",
       "    <tr>\n",
       "      <td>9</td>\n",
       "      <td>Other|NIH</td>\n",
       "      <td>1074</td>\n",
       "      <td>1392</td>\n",
       "      <td>Phase 2</td>\n",
       "      <td>1404</td>\n",
       "      <td>60</td>\n",
       "    </tr>\n",
       "  </tbody>\n",
       "</table>\n",
       "</div>"
      ],
      "text/plain": [
       "        FundedBys  noofdays(1-2)  noofdays(4-3)           Phases  \\\n",
       "0       Other|NIH            359            153   Not Applicable   \n",
       "1           Other            362            301          Phase 1   \n",
       "2           Other           1308           1911          Phase 3   \n",
       "3  Other|Industry           1079           1024          Phase 2   \n",
       "4           Other           1441           1065   Not Applicable   \n",
       "5           Other           1803           1878  Phase 2|Phase 3   \n",
       "6       Other|NIH           1392           1350          Phase 2   \n",
       "7       Other|NIH            355            697          Phase 1   \n",
       "8       Other|NIH           1074            895          Phase 2   \n",
       "9       Other|NIH           1074           1392          Phase 2   \n",
       "\n",
       "   noofdays(1-3)  Enrollment  \n",
       "0            360         237  \n",
       "1            362           4  \n",
       "2           2302          40  \n",
       "3           1079          33  \n",
       "4           1441          12  \n",
       "5           1804          43  \n",
       "6           1444         170  \n",
       "7            715           9  \n",
       "8           1081          90  \n",
       "9           1404          60  "
      ]
     },
     "execution_count": 474,
     "metadata": {},
     "output_type": "execute_result"
    }
   ],
   "source": [
    "dataset.head(10) # view of last five records"
   ]
  },
  {
   "cell_type": "code",
   "execution_count": 475,
   "metadata": {},
   "outputs": [
    {
     "name": "stdout",
     "output_type": "stream",
     "text": [
      "<class 'pandas.core.frame.DataFrame'>\n",
      "RangeIndex: 29526 entries, 0 to 29525\n",
      "Data columns (total 6 columns):\n",
      "FundedBys        29526 non-null object\n",
      "noofdays(1-2)    29526 non-null int64\n",
      "noofdays(4-3)    29526 non-null int64\n",
      "Phases           29526 non-null object\n",
      "noofdays(1-3)    29526 non-null int64\n",
      "Enrollment       29526 non-null int64\n",
      "dtypes: int64(4), object(2)\n",
      "memory usage: 1.4+ MB\n"
     ]
    }
   ],
   "source": [
    "dataset.info() # data type information "
   ]
  },
  {
   "cell_type": "code",
   "execution_count": 476,
   "metadata": {},
   "outputs": [
    {
     "data": {
      "text/html": [
       "<div>\n",
       "<style scoped>\n",
       "    .dataframe tbody tr th:only-of-type {\n",
       "        vertical-align: middle;\n",
       "    }\n",
       "\n",
       "    .dataframe tbody tr th {\n",
       "        vertical-align: top;\n",
       "    }\n",
       "\n",
       "    .dataframe thead th {\n",
       "        text-align: right;\n",
       "    }\n",
       "</style>\n",
       "<table border=\"1\" class=\"dataframe\">\n",
       "  <thead>\n",
       "    <tr style=\"text-align: right;\">\n",
       "      <th></th>\n",
       "      <th>noofdays(1-2)</th>\n",
       "      <th>noofdays(4-3)</th>\n",
       "      <th>noofdays(1-3)</th>\n",
       "      <th>Enrollment</th>\n",
       "    </tr>\n",
       "  </thead>\n",
       "  <tbody>\n",
       "    <tr>\n",
       "      <td>count</td>\n",
       "      <td>29526.000000</td>\n",
       "      <td>29526.000000</td>\n",
       "      <td>29526.000000</td>\n",
       "      <td>29526.000000</td>\n",
       "    </tr>\n",
       "    <tr>\n",
       "      <td>mean</td>\n",
       "      <td>830.654813</td>\n",
       "      <td>763.596153</td>\n",
       "      <td>1026.450721</td>\n",
       "      <td>463.386507</td>\n",
       "    </tr>\n",
       "    <tr>\n",
       "      <td>std</td>\n",
       "      <td>723.954756</td>\n",
       "      <td>1088.248647</td>\n",
       "      <td>927.189282</td>\n",
       "      <td>2658.376346</td>\n",
       "    </tr>\n",
       "    <tr>\n",
       "      <td>min</td>\n",
       "      <td>0.000000</td>\n",
       "      <td>-9124.000000</td>\n",
       "      <td>0.000000</td>\n",
       "      <td>1.000000</td>\n",
       "    </tr>\n",
       "    <tr>\n",
       "      <td>25%</td>\n",
       "      <td>357.000000</td>\n",
       "      <td>160.000000</td>\n",
       "      <td>359.000000</td>\n",
       "      <td>40.000000</td>\n",
       "    </tr>\n",
       "    <tr>\n",
       "      <td>50%</td>\n",
       "      <td>717.000000</td>\n",
       "      <td>579.000000</td>\n",
       "      <td>722.000000</td>\n",
       "      <td>107.000000</td>\n",
       "    </tr>\n",
       "    <tr>\n",
       "      <td>75%</td>\n",
       "      <td>1084.000000</td>\n",
       "      <td>1237.000000</td>\n",
       "      <td>1440.000000</td>\n",
       "      <td>351.000000</td>\n",
       "    </tr>\n",
       "    <tr>\n",
       "      <td>max</td>\n",
       "      <td>5168.000000</td>\n",
       "      <td>6275.000000</td>\n",
       "      <td>7554.000000</td>\n",
       "      <td>87665.000000</td>\n",
       "    </tr>\n",
       "  </tbody>\n",
       "</table>\n",
       "</div>"
      ],
      "text/plain": [
       "       noofdays(1-2)  noofdays(4-3)  noofdays(1-3)    Enrollment\n",
       "count   29526.000000   29526.000000   29526.000000  29526.000000\n",
       "mean      830.654813     763.596153    1026.450721    463.386507\n",
       "std       723.954756    1088.248647     927.189282   2658.376346\n",
       "min         0.000000   -9124.000000       0.000000      1.000000\n",
       "25%       357.000000     160.000000     359.000000     40.000000\n",
       "50%       717.000000     579.000000     722.000000    107.000000\n",
       "75%      1084.000000    1237.000000    1440.000000    351.000000\n",
       "max      5168.000000    6275.000000    7554.000000  87665.000000"
      ]
     },
     "execution_count": 476,
     "metadata": {},
     "output_type": "execute_result"
    }
   ],
   "source": [
    "dataset.describe() # statistical information getting of non-object variable"
   ]
  },
  {
   "cell_type": "code",
   "execution_count": 477,
   "metadata": {},
   "outputs": [
    {
     "data": {
      "text/html": [
       "<div>\n",
       "<style scoped>\n",
       "    .dataframe tbody tr th:only-of-type {\n",
       "        vertical-align: middle;\n",
       "    }\n",
       "\n",
       "    .dataframe tbody tr th {\n",
       "        vertical-align: top;\n",
       "    }\n",
       "\n",
       "    .dataframe thead th {\n",
       "        text-align: right;\n",
       "    }\n",
       "</style>\n",
       "<table border=\"1\" class=\"dataframe\">\n",
       "  <thead>\n",
       "    <tr style=\"text-align: right;\">\n",
       "      <th></th>\n",
       "      <th>FundedBys</th>\n",
       "      <th>Phases</th>\n",
       "    </tr>\n",
       "  </thead>\n",
       "  <tbody>\n",
       "    <tr>\n",
       "      <td>count</td>\n",
       "      <td>29526</td>\n",
       "      <td>29526</td>\n",
       "    </tr>\n",
       "    <tr>\n",
       "      <td>unique</td>\n",
       "      <td>27</td>\n",
       "      <td>8</td>\n",
       "    </tr>\n",
       "    <tr>\n",
       "      <td>top</td>\n",
       "      <td>Industry</td>\n",
       "      <td>Phase 2</td>\n",
       "    </tr>\n",
       "    <tr>\n",
       "      <td>freq</td>\n",
       "      <td>17586</td>\n",
       "      <td>9264</td>\n",
       "    </tr>\n",
       "  </tbody>\n",
       "</table>\n",
       "</div>"
      ],
      "text/plain": [
       "       FundedBys   Phases\n",
       "count      29526    29526\n",
       "unique        27        8\n",
       "top     Industry  Phase 2\n",
       "freq       17586     9264"
      ]
     },
     "execution_count": 477,
     "metadata": {},
     "output_type": "execute_result"
    }
   ],
   "source": [
    "dataset.describe(include=['O']) # statistical information of objects type variable"
   ]
  },
  {
   "cell_type": "markdown",
   "metadata": {},
   "source": [
    "# Exploratory Data analysis\n"
   ]
  },
  {
   "cell_type": "code",
   "execution_count": 478,
   "metadata": {},
   "outputs": [
    {
     "data": {
      "text/plain": [
       "FundedBys        0\n",
       "noofdays(1-2)    0\n",
       "noofdays(4-3)    0\n",
       "Phases           0\n",
       "noofdays(1-3)    0\n",
       "Enrollment       0\n",
       "dtype: int64"
      ]
     },
     "execution_count": 478,
     "metadata": {},
     "output_type": "execute_result"
    }
   ],
   "source": [
    "dataset.isna().sum() # checking missing values"
   ]
  },
  {
   "cell_type": "code",
   "execution_count": 479,
   "metadata": {
    "scrolled": true
   },
   "outputs": [
    {
     "name": "stdout",
     "output_type": "stream",
     "text": [
      "FundedBys\t27\n",
      "noofdays(1-2)\t1009\n",
      "noofdays(4-3)\t2052\n",
      "Phases\t8\n",
      "noofdays(1-3)\t1111\n",
      "Enrollment\t1041\n"
     ]
    }
   ],
   "source": [
    "# find the unique value count\n",
    "for i in dataset.columns:\n",
    "    print(i + \"\\t\" + str(len(dataset[i].unique())))"
   ]
  },
  {
   "cell_type": "code",
   "execution_count": 480,
   "metadata": {},
   "outputs": [
    {
     "name": "stdout",
     "output_type": "stream",
     "text": [
      "Unique value of:>>> FundedBys (27)\n",
      "['Other|NIH' 'Other' 'Other|Industry' 'Industry' 'Other|NIH|Industry'\n",
      " 'Industry|NIH' 'Other|U.S. Fed|NIH|Industry' 'Industry|Other'\n",
      " 'Other|U.S. Fed' 'U.S. Fed' 'Other|Industry|NIH' 'U.S. Fed|Other'\n",
      " 'Industry|NIH|Other' 'NIH|Industry' 'NIH|Other' 'NIH'\n",
      " 'Other|U.S. Fed|Industry' 'Other|Industry|U.S. Fed' 'Industry|U.S. Fed'\n",
      " 'Industry|Other|U.S. Fed' 'Industry|Other|NIH' 'Industry|U.S. Fed|Other'\n",
      " 'U.S. Fed|Industry' 'NIH|Other|Industry' 'NIH|U.S. Fed'\n",
      " 'Other|U.S. Fed|NIH' 'NIH|U.S. Fed|Other']\n",
      "\n",
      "Unique value of:>>> noofdays(1-2) (1009)\n",
      "[ 359  362 1308 ...  323  416  409]\n",
      "\n",
      "Unique value of:>>> noofdays(4-3) (2052)\n",
      "[  153   301  1911 ...   437  1406 -1871]\n",
      "\n",
      "Unique value of:>>> Phases (8)\n",
      "['Not Applicable' 'Phase 1' 'Phase 3' 'Phase 2' 'Phase 2|Phase 3'\n",
      " 'Phase 1|Phase 2' 'Phase 4' 'Early Phase 1']\n",
      "\n",
      "Unique value of:>>> noofdays(1-3) (1111)\n",
      "[ 360  362 2302 ...  986  323  497]\n",
      "\n",
      "Unique value of:>>> Enrollment (1041)\n",
      "[ 237    4   40 ...  387 1300  692]\n",
      "\n"
     ]
    }
   ],
   "source": [
    "# find unique values of each column\n",
    "for i in dataset.columns:\n",
    "    print(\"Unique value of:>>> {} ({})\\n{}\\n\".format(i, len(dataset[i].unique()), dataset[i].unique()))"
   ]
  },
  {
   "cell_type": "code",
   "execution_count": 481,
   "metadata": {},
   "outputs": [],
   "source": [
    "##one_hot = pd.get_dummies(dataset[\"studydesign(final)\"])\n",
    "# Drop column B as it is now encoded\n",
    "\n",
    "##dataset = dataset.drop([\"studydesign(final)\"],axis = 1)\n",
    "# Join the encoded df\n",
    "##dataset = dataset.join(one_hot)\n",
    "##dataset.head(2)"
   ]
  },
  {
   "cell_type": "code",
   "execution_count": 482,
   "metadata": {},
   "outputs": [
    {
     "data": {
      "text/html": [
       "<div>\n",
       "<style scoped>\n",
       "    .dataframe tbody tr th:only-of-type {\n",
       "        vertical-align: middle;\n",
       "    }\n",
       "\n",
       "    .dataframe tbody tr th {\n",
       "        vertical-align: top;\n",
       "    }\n",
       "\n",
       "    .dataframe thead th {\n",
       "        text-align: right;\n",
       "    }\n",
       "</style>\n",
       "<table border=\"1\" class=\"dataframe\">\n",
       "  <thead>\n",
       "    <tr style=\"text-align: right;\">\n",
       "      <th></th>\n",
       "      <th>FundedBys</th>\n",
       "      <th>noofdays(1-2)</th>\n",
       "      <th>noofdays(4-3)</th>\n",
       "      <th>noofdays(1-3)</th>\n",
       "      <th>Enrollment</th>\n",
       "      <th>Early Phase 1</th>\n",
       "      <th>Not Applicable</th>\n",
       "      <th>Phase 1</th>\n",
       "      <th>Phase 1|Phase 2</th>\n",
       "      <th>Phase 2</th>\n",
       "      <th>Phase 2|Phase 3</th>\n",
       "      <th>Phase 3</th>\n",
       "      <th>Phase 4</th>\n",
       "    </tr>\n",
       "  </thead>\n",
       "  <tbody>\n",
       "    <tr>\n",
       "      <td>0</td>\n",
       "      <td>Other|NIH</td>\n",
       "      <td>359</td>\n",
       "      <td>153</td>\n",
       "      <td>360</td>\n",
       "      <td>237</td>\n",
       "      <td>0</td>\n",
       "      <td>1</td>\n",
       "      <td>0</td>\n",
       "      <td>0</td>\n",
       "      <td>0</td>\n",
       "      <td>0</td>\n",
       "      <td>0</td>\n",
       "      <td>0</td>\n",
       "    </tr>\n",
       "    <tr>\n",
       "      <td>1</td>\n",
       "      <td>Other</td>\n",
       "      <td>362</td>\n",
       "      <td>301</td>\n",
       "      <td>362</td>\n",
       "      <td>4</td>\n",
       "      <td>0</td>\n",
       "      <td>0</td>\n",
       "      <td>1</td>\n",
       "      <td>0</td>\n",
       "      <td>0</td>\n",
       "      <td>0</td>\n",
       "      <td>0</td>\n",
       "      <td>0</td>\n",
       "    </tr>\n",
       "  </tbody>\n",
       "</table>\n",
       "</div>"
      ],
      "text/plain": [
       "   FundedBys  noofdays(1-2)  noofdays(4-3)  noofdays(1-3)  Enrollment  \\\n",
       "0  Other|NIH            359            153            360         237   \n",
       "1      Other            362            301            362           4   \n",
       "\n",
       "   Early Phase 1  Not Applicable  Phase 1  Phase 1|Phase 2  Phase 2  \\\n",
       "0              0               1        0                0        0   \n",
       "1              0               0        1                0        0   \n",
       "\n",
       "   Phase 2|Phase 3  Phase 3  Phase 4  \n",
       "0                0        0        0  \n",
       "1                0        0        0  "
      ]
     },
     "execution_count": 482,
     "metadata": {},
     "output_type": "execute_result"
    }
   ],
   "source": [
    "Phases = pd.get_dummies(dataset[\"Phases\"])\n",
    "# Drop column B as it is now encoded\n",
    "dataset = dataset.drop([\"Phases\"],axis = 1)\n",
    "# Join the encoded df\n",
    "dataset = dataset.join(Phases)\n",
    "dataset.head(2)"
   ]
  },
  {
   "cell_type": "code",
   "execution_count": 483,
   "metadata": {},
   "outputs": [
    {
     "data": {
      "text/html": [
       "<div>\n",
       "<style scoped>\n",
       "    .dataframe tbody tr th:only-of-type {\n",
       "        vertical-align: middle;\n",
       "    }\n",
       "\n",
       "    .dataframe tbody tr th {\n",
       "        vertical-align: top;\n",
       "    }\n",
       "\n",
       "    .dataframe thead th {\n",
       "        text-align: right;\n",
       "    }\n",
       "</style>\n",
       "<table border=\"1\" class=\"dataframe\">\n",
       "  <thead>\n",
       "    <tr style=\"text-align: right;\">\n",
       "      <th></th>\n",
       "      <th>FundedBys</th>\n",
       "      <th>noofdays(1-2)</th>\n",
       "      <th>noofdays(4-3)</th>\n",
       "      <th>noofdays(1-3)</th>\n",
       "      <th>Enrollment</th>\n",
       "      <th>Early Phase 1</th>\n",
       "      <th>Not Applicable</th>\n",
       "      <th>Phase 1</th>\n",
       "      <th>Phase 1|Phase 2</th>\n",
       "      <th>Phase 2</th>\n",
       "      <th>Phase 2|Phase 3</th>\n",
       "      <th>Phase 3</th>\n",
       "      <th>Phase 4</th>\n",
       "    </tr>\n",
       "  </thead>\n",
       "  <tbody>\n",
       "    <tr>\n",
       "      <td>0</td>\n",
       "      <td>Other|NIH</td>\n",
       "      <td>359</td>\n",
       "      <td>153</td>\n",
       "      <td>360</td>\n",
       "      <td>237</td>\n",
       "      <td>0</td>\n",
       "      <td>1</td>\n",
       "      <td>0</td>\n",
       "      <td>0</td>\n",
       "      <td>0</td>\n",
       "      <td>0</td>\n",
       "      <td>0</td>\n",
       "      <td>0</td>\n",
       "    </tr>\n",
       "    <tr>\n",
       "      <td>1</td>\n",
       "      <td>Other</td>\n",
       "      <td>362</td>\n",
       "      <td>301</td>\n",
       "      <td>362</td>\n",
       "      <td>4</td>\n",
       "      <td>0</td>\n",
       "      <td>0</td>\n",
       "      <td>1</td>\n",
       "      <td>0</td>\n",
       "      <td>0</td>\n",
       "      <td>0</td>\n",
       "      <td>0</td>\n",
       "      <td>0</td>\n",
       "    </tr>\n",
       "  </tbody>\n",
       "</table>\n",
       "</div>"
      ],
      "text/plain": [
       "   FundedBys  noofdays(1-2)  noofdays(4-3)  noofdays(1-3)  Enrollment  \\\n",
       "0  Other|NIH            359            153            360         237   \n",
       "1      Other            362            301            362           4   \n",
       "\n",
       "   Early Phase 1  Not Applicable  Phase 1  Phase 1|Phase 2  Phase 2  \\\n",
       "0              0               1        0                0        0   \n",
       "1              0               0        1                0        0   \n",
       "\n",
       "   Phase 2|Phase 3  Phase 3  Phase 4  \n",
       "0                0        0        0  \n",
       "1                0        0        0  "
      ]
     },
     "execution_count": 483,
     "metadata": {},
     "output_type": "execute_result"
    }
   ],
   "source": [
    "dataset.head(2)"
   ]
  },
  {
   "cell_type": "code",
   "execution_count": 484,
   "metadata": {},
   "outputs": [],
   "source": [
    "from sklearn import preprocessing \n",
    "  \n",
    "# label_encoder object knows how to understand word labels. \n",
    "label_encoder = preprocessing.LabelEncoder() \n",
    "  \n",
    "dataset[\"FundedBys\"]= label_encoder.fit_transform(dataset[\"FundedBys\"]) \n",
    "#dataset[\"Phases\"]= label_encoder.fit_transform(dataset[\"Phases\"]) "
   ]
  },
  {
   "cell_type": "code",
   "execution_count": 485,
   "metadata": {},
   "outputs": [
    {
     "data": {
      "text/html": [
       "<div>\n",
       "<style scoped>\n",
       "    .dataframe tbody tr th:only-of-type {\n",
       "        vertical-align: middle;\n",
       "    }\n",
       "\n",
       "    .dataframe tbody tr th {\n",
       "        vertical-align: top;\n",
       "    }\n",
       "\n",
       "    .dataframe thead th {\n",
       "        text-align: right;\n",
       "    }\n",
       "</style>\n",
       "<table border=\"1\" class=\"dataframe\">\n",
       "  <thead>\n",
       "    <tr style=\"text-align: right;\">\n",
       "      <th></th>\n",
       "      <th>FundedBys</th>\n",
       "      <th>noofdays(1-2)</th>\n",
       "      <th>noofdays(4-3)</th>\n",
       "      <th>noofdays(1-3)</th>\n",
       "      <th>Enrollment</th>\n",
       "      <th>Early Phase 1</th>\n",
       "      <th>Not Applicable</th>\n",
       "      <th>Phase 1</th>\n",
       "      <th>Phase 1|Phase 2</th>\n",
       "      <th>Phase 2</th>\n",
       "      <th>Phase 2|Phase 3</th>\n",
       "      <th>Phase 3</th>\n",
       "      <th>Phase 4</th>\n",
       "    </tr>\n",
       "  </thead>\n",
       "  <tbody>\n",
       "    <tr>\n",
       "      <td>0</td>\n",
       "      <td>18</td>\n",
       "      <td>359</td>\n",
       "      <td>153</td>\n",
       "      <td>360</td>\n",
       "      <td>237</td>\n",
       "      <td>0</td>\n",
       "      <td>1</td>\n",
       "      <td>0</td>\n",
       "      <td>0</td>\n",
       "      <td>0</td>\n",
       "      <td>0</td>\n",
       "      <td>0</td>\n",
       "      <td>0</td>\n",
       "    </tr>\n",
       "    <tr>\n",
       "      <td>1</td>\n",
       "      <td>14</td>\n",
       "      <td>362</td>\n",
       "      <td>301</td>\n",
       "      <td>362</td>\n",
       "      <td>4</td>\n",
       "      <td>0</td>\n",
       "      <td>0</td>\n",
       "      <td>1</td>\n",
       "      <td>0</td>\n",
       "      <td>0</td>\n",
       "      <td>0</td>\n",
       "      <td>0</td>\n",
       "      <td>0</td>\n",
       "    </tr>\n",
       "    <tr>\n",
       "      <td>2</td>\n",
       "      <td>14</td>\n",
       "      <td>1308</td>\n",
       "      <td>1911</td>\n",
       "      <td>2302</td>\n",
       "      <td>40</td>\n",
       "      <td>0</td>\n",
       "      <td>0</td>\n",
       "      <td>0</td>\n",
       "      <td>0</td>\n",
       "      <td>0</td>\n",
       "      <td>0</td>\n",
       "      <td>1</td>\n",
       "      <td>0</td>\n",
       "    </tr>\n",
       "    <tr>\n",
       "      <td>3</td>\n",
       "      <td>15</td>\n",
       "      <td>1079</td>\n",
       "      <td>1024</td>\n",
       "      <td>1079</td>\n",
       "      <td>33</td>\n",
       "      <td>0</td>\n",
       "      <td>0</td>\n",
       "      <td>0</td>\n",
       "      <td>0</td>\n",
       "      <td>1</td>\n",
       "      <td>0</td>\n",
       "      <td>0</td>\n",
       "      <td>0</td>\n",
       "    </tr>\n",
       "    <tr>\n",
       "      <td>4</td>\n",
       "      <td>14</td>\n",
       "      <td>1441</td>\n",
       "      <td>1065</td>\n",
       "      <td>1441</td>\n",
       "      <td>12</td>\n",
       "      <td>0</td>\n",
       "      <td>1</td>\n",
       "      <td>0</td>\n",
       "      <td>0</td>\n",
       "      <td>0</td>\n",
       "      <td>0</td>\n",
       "      <td>0</td>\n",
       "      <td>0</td>\n",
       "    </tr>\n",
       "  </tbody>\n",
       "</table>\n",
       "</div>"
      ],
      "text/plain": [
       "   FundedBys  noofdays(1-2)  noofdays(4-3)  noofdays(1-3)  Enrollment  \\\n",
       "0         18            359            153            360         237   \n",
       "1         14            362            301            362           4   \n",
       "2         14           1308           1911           2302          40   \n",
       "3         15           1079           1024           1079          33   \n",
       "4         14           1441           1065           1441          12   \n",
       "\n",
       "   Early Phase 1  Not Applicable  Phase 1  Phase 1|Phase 2  Phase 2  \\\n",
       "0              0               1        0                0        0   \n",
       "1              0               0        1                0        0   \n",
       "2              0               0        0                0        0   \n",
       "3              0               0        0                0        1   \n",
       "4              0               1        0                0        0   \n",
       "\n",
       "   Phase 2|Phase 3  Phase 3  Phase 4  \n",
       "0                0        0        0  \n",
       "1                0        0        0  \n",
       "2                0        1        0  \n",
       "3                0        0        0  \n",
       "4                0        0        0  "
      ]
     },
     "execution_count": 485,
     "metadata": {},
     "output_type": "execute_result"
    }
   ],
   "source": [
    "dataset.head()"
   ]
  },
  {
   "cell_type": "code",
   "execution_count": 486,
   "metadata": {},
   "outputs": [
    {
     "name": "stdout",
     "output_type": "stream",
     "text": [
      "<class 'pandas.core.frame.DataFrame'>\n",
      "RangeIndex: 29526 entries, 0 to 29525\n",
      "Data columns (total 13 columns):\n",
      "FundedBys          29526 non-null int32\n",
      "noofdays(1-2)      29526 non-null int64\n",
      "noofdays(4-3)      29526 non-null int64\n",
      "noofdays(1-3)      29526 non-null int64\n",
      "Enrollment         29526 non-null int64\n",
      "Early Phase 1      29526 non-null uint8\n",
      "Not Applicable     29526 non-null uint8\n",
      "Phase 1            29526 non-null uint8\n",
      "Phase 1|Phase 2    29526 non-null uint8\n",
      "Phase 2            29526 non-null uint8\n",
      "Phase 2|Phase 3    29526 non-null uint8\n",
      "Phase 3            29526 non-null uint8\n",
      "Phase 4            29526 non-null uint8\n",
      "dtypes: int32(1), int64(4), uint8(8)\n",
      "memory usage: 1.2 MB\n"
     ]
    }
   ],
   "source": [
    "dataset.info()"
   ]
  },
  {
   "cell_type": "markdown",
   "metadata": {},
   "source": [
    "# Separating the Dependent(Target) and Independent (Observed)variables\n"
   ]
  },
  {
   "cell_type": "code",
   "execution_count": 487,
   "metadata": {
    "colab": {
     "base_uri": "https://localhost:8080/",
     "height": 34
    },
    "colab_type": "code",
    "id": "_M2jyRbdy32p",
    "outputId": "a8516f45-d756-4744-fda2-6c86a8d4f973"
   },
   "outputs": [
    {
     "data": {
      "text/plain": [
       "(29526, 13)"
      ]
     },
     "execution_count": 487,
     "metadata": {},
     "output_type": "execute_result"
    }
   ],
   "source": [
    "dataset.shape"
   ]
  },
  {
   "cell_type": "code",
   "execution_count": 488,
   "metadata": {
    "colab": {},
    "colab_type": "code",
    "id": "jCyXQ2WBy34x"
   },
   "outputs": [],
   "source": [
    "y=dataset.loc[:,['noofdays(1-3)']].values"
   ]
  },
  {
   "cell_type": "code",
   "execution_count": 489,
   "metadata": {
    "colab": {
     "base_uri": "https://localhost:8080/",
     "height": 136
    },
    "colab_type": "code",
    "id": "TuhhOmwty35h",
    "outputId": "d1078ced-7353-4369-d56d-54f2ed88497d",
    "scrolled": true
   },
   "outputs": [
    {
     "data": {
      "text/plain": [
       "array([[ 360],\n",
       "       [ 362],\n",
       "       [2302],\n",
       "       ...,\n",
       "       [ 366],\n",
       "       [ 404],\n",
       "       [ 388]], dtype=int64)"
      ]
     },
     "execution_count": 489,
     "metadata": {},
     "output_type": "execute_result"
    }
   ],
   "source": [
    "y"
   ]
  },
  {
   "cell_type": "code",
   "execution_count": 490,
   "metadata": {
    "colab": {},
    "colab_type": "code",
    "id": "yHM4_UY2y362"
   },
   "outputs": [],
   "source": [
    "X=dataset.drop('noofdays(1-3)',axis=1)"
   ]
  },
  {
   "cell_type": "code",
   "execution_count": 491,
   "metadata": {
    "colab": {
     "base_uri": "https://localhost:8080/",
     "height": 136
    },
    "colab_type": "code",
    "id": "vlWIePBby37X",
    "outputId": "ee10d3f3-bec5-48f0-a58d-aeeb7a610b5c"
   },
   "outputs": [
    {
     "data": {
      "text/plain": [
       "array([[  18,  359,  153, ...,    0,    0,    0],\n",
       "       [  14,  362,  301, ...,    0,    0,    0],\n",
       "       [  14, 1308, 1911, ...,    0,    1,    0],\n",
       "       ...,\n",
       "       [   0,  366,  362, ...,    0,    1,    0],\n",
       "       [   0,  404,  391, ...,    0,    1,    0],\n",
       "       [   0,  372,  383, ...,    0,    1,    0]], dtype=int64)"
      ]
     },
     "execution_count": 491,
     "metadata": {},
     "output_type": "execute_result"
    }
   ],
   "source": [
    "X.values"
   ]
  },
  {
   "cell_type": "markdown",
   "metadata": {},
   "source": [
    "# Creating training part and Test part"
   ]
  },
  {
   "cell_type": "code",
   "execution_count": 492,
   "metadata": {},
   "outputs": [],
   "source": [
    "X_train,X_test,y_train,y_test=train_test_split(X,y,test_size=0.3,random_state=0)"
   ]
  },
  {
   "cell_type": "code",
   "execution_count": 493,
   "metadata": {},
   "outputs": [
    {
     "data": {
      "text/plain": [
       "((8858, 12), (8858, 1), (20668, 1), (20668, 12))"
      ]
     },
     "execution_count": 493,
     "metadata": {},
     "output_type": "execute_result"
    }
   ],
   "source": [
    "X_test.shape, y_test.shape, y_train.shape, X_train.shape"
   ]
  },
  {
   "cell_type": "markdown",
   "metadata": {},
   "source": [
    "# Linear Regression Model\n"
   ]
  },
  {
   "cell_type": "code",
   "execution_count": 494,
   "metadata": {},
   "outputs": [
    {
     "data": {
      "text/plain": [
       "LinearRegression(copy_X=True, fit_intercept=True, n_jobs=None, normalize=False)"
      ]
     },
     "execution_count": 494,
     "metadata": {},
     "output_type": "execute_result"
    }
   ],
   "source": [
    "regressor = LinearRegression()  \n",
    "regressor.fit(X_train, y_train) #training the algorithm"
   ]
  },
  {
   "cell_type": "code",
   "execution_count": 495,
   "metadata": {},
   "outputs": [
    {
     "name": "stdout",
     "output_type": "stream",
     "text": [
      "[115.76234212]\n",
      "[[ 3.03936725e+00  7.36422326e-01  3.54017466e-01 -2.34915326e-03\n",
      "   6.79277645e+00 -1.31962406e+01  1.32188797e+01  1.31177291e+01\n",
      "   8.45641575e+00 -3.28209030e+01  5.73199037e+01 -5.28885611e+01]]\n"
     ]
    }
   ],
   "source": [
    "#To retrieve the intercept:\n",
    "print(regressor.intercept_)\n",
    "#For retrieving the slope:\n",
    "print(regressor.coef_)"
   ]
  },
  {
   "cell_type": "code",
   "execution_count": null,
   "metadata": {},
   "outputs": [],
   "source": []
  },
  {
   "cell_type": "code",
   "execution_count": 496,
   "metadata": {},
   "outputs": [],
   "source": [
    "y_pred = regressor.predict(X_test)"
   ]
  },
  {
   "cell_type": "code",
   "execution_count": 497,
   "metadata": {},
   "outputs": [
    {
     "data": {
      "text/plain": [
       "0.8409538690608281"
      ]
     },
     "execution_count": 497,
     "metadata": {},
     "output_type": "execute_result"
    }
   ],
   "source": [
    "\n",
    "regressor.score(X_test,y_test)"
   ]
  },
  {
   "cell_type": "code",
   "execution_count": 498,
   "metadata": {},
   "outputs": [
    {
     "name": "stdout",
     "output_type": "stream",
     "text": [
      "Mean Absolute Error: 235.37778515204295\n",
      "Mean Squared Error: 138204.10495384925\n",
      "Root Mean Squared Error: 371.75812695064144\n"
     ]
    }
   ],
   "source": [
    "print('Mean Absolute Error:', metrics.mean_absolute_error(y_test, y_pred))  \n",
    "print('Mean Squared Error:', metrics.mean_squared_error(y_test, y_pred))  \n",
    "print('Root Mean Squared Error:', np.sqrt(metrics.mean_squared_error(y_test, y_pred)))"
   ]
  },
  {
   "cell_type": "code",
   "execution_count": 499,
   "metadata": {},
   "outputs": [
    {
     "data": {
      "text/html": [
       "<div>\n",
       "<style scoped>\n",
       "    .dataframe tbody tr th:only-of-type {\n",
       "        vertical-align: middle;\n",
       "    }\n",
       "\n",
       "    .dataframe tbody tr th {\n",
       "        vertical-align: top;\n",
       "    }\n",
       "\n",
       "    .dataframe thead th {\n",
       "        text-align: right;\n",
       "    }\n",
       "</style>\n",
       "<table border=\"1\" class=\"dataframe\">\n",
       "  <thead>\n",
       "    <tr style=\"text-align: right;\">\n",
       "      <th></th>\n",
       "      <th>Actual</th>\n",
       "      <th>Predicted</th>\n",
       "    </tr>\n",
       "  </thead>\n",
       "  <tbody>\n",
       "    <tr>\n",
       "      <td>0</td>\n",
       "      <td>1073</td>\n",
       "      <td>935.971583</td>\n",
       "    </tr>\n",
       "    <tr>\n",
       "      <td>1</td>\n",
       "      <td>2920</td>\n",
       "      <td>1920.284222</td>\n",
       "    </tr>\n",
       "    <tr>\n",
       "      <td>2</td>\n",
       "      <td>808</td>\n",
       "      <td>699.088149</td>\n",
       "    </tr>\n",
       "    <tr>\n",
       "      <td>3</td>\n",
       "      <td>2</td>\n",
       "      <td>-870.541736</td>\n",
       "    </tr>\n",
       "    <tr>\n",
       "      <td>4</td>\n",
       "      <td>713</td>\n",
       "      <td>848.076469</td>\n",
       "    </tr>\n",
       "    <tr>\n",
       "      <td>...</td>\n",
       "      <td>...</td>\n",
       "      <td>...</td>\n",
       "    </tr>\n",
       "    <tr>\n",
       "      <td>8853</td>\n",
       "      <td>224</td>\n",
       "      <td>357.045873</td>\n",
       "    </tr>\n",
       "    <tr>\n",
       "      <td>8854</td>\n",
       "      <td>720</td>\n",
       "      <td>835.472757</td>\n",
       "    </tr>\n",
       "    <tr>\n",
       "      <td>8855</td>\n",
       "      <td>5</td>\n",
       "      <td>54.841368</td>\n",
       "    </tr>\n",
       "    <tr>\n",
       "      <td>8856</td>\n",
       "      <td>1809</td>\n",
       "      <td>1579.396134</td>\n",
       "    </tr>\n",
       "    <tr>\n",
       "      <td>8857</td>\n",
       "      <td>724</td>\n",
       "      <td>867.197023</td>\n",
       "    </tr>\n",
       "  </tbody>\n",
       "</table>\n",
       "<p>8858 rows × 2 columns</p>\n",
       "</div>"
      ],
      "text/plain": [
       "      Actual    Predicted\n",
       "0       1073   935.971583\n",
       "1       2920  1920.284222\n",
       "2        808   699.088149\n",
       "3          2  -870.541736\n",
       "4        713   848.076469\n",
       "...      ...          ...\n",
       "8853     224   357.045873\n",
       "8854     720   835.472757\n",
       "8855       5    54.841368\n",
       "8856    1809  1579.396134\n",
       "8857     724   867.197023\n",
       "\n",
       "[8858 rows x 2 columns]"
      ]
     },
     "execution_count": 499,
     "metadata": {},
     "output_type": "execute_result"
    }
   ],
   "source": [
    "df = pd.DataFrame({'Actual': y_test.flatten(), 'Predicted': y_pred.flatten()})\n",
    "df"
   ]
  },
  {
   "cell_type": "code",
   "execution_count": 543,
   "metadata": {},
   "outputs": [
    {
     "data": {
      "text/plain": [
       "1023.1647940465558"
      ]
     },
     "execution_count": 543,
     "metadata": {},
     "output_type": "execute_result"
    }
   ],
   "source": [
    "y_pred.mean()"
   ]
  },
  {
   "cell_type": "code",
   "execution_count": 546,
   "metadata": {},
   "outputs": [
    {
     "data": {
      "text/plain": [
       "0.3622251605801376"
      ]
     },
     "execution_count": 546,
     "metadata": {},
     "output_type": "execute_result"
    }
   ],
   "source": [
    "#Scatter index\n",
    "SI= (np.sqrt(metrics.mean_squared_error(y_test, y_pred)))/y_test.mean()\n",
    "SI\n",
    "#since SI is <1 our estimations are acceptable"
   ]
  },
  {
   "cell_type": "code",
   "execution_count": 500,
   "metadata": {},
   "outputs": [
    {
     "data": {
      "text/plain": [
       "Text(0, 0.5, 'Sales')"
      ]
     },
     "execution_count": 500,
     "metadata": {},
     "output_type": "execute_result"
    },
    {
     "data": {
      "image/png": "[encoded data removed]",
      "text/plain": [
       "<Figure size 432x288 with 1 Axes>"
      ]
     },
     "metadata": {
      "needs_background": "light"
     },
     "output_type": "display_data"
    }
   ],
   "source": [
    "#Actual vs Predicted\n",
    "c = [i for i in range(1,8859,1)]\n",
    "fig = plt.figure()\n",
    "plt.plot(c,y_test, color=\"blue\", linewidth=2.5, linestyle=\"-\")\n",
    "plt.plot(c,y_pred, color=\"red\",  linewidth=2.5, linestyle=\"-\")\n",
    "fig.suptitle('Actual and Predicted', fontsize=20)              # Plot heading \n",
    "plt.xlabel('Index', fontsize=18)                               # X-label\n",
    "plt.ylabel('Sales', fontsize=16)                               # Y-label"
   ]
  },
  {
   "cell_type": "code",
   "execution_count": 501,
   "metadata": {},
   "outputs": [
    {
     "data": {
      "text/plain": [
       "Text(0, 0.5, 'ytest-ypred')"
      ]
     },
     "execution_count": 501,
     "metadata": {},
     "output_type": "execute_result"
    },
    {
     "data": {
      "image/png": "[encoded data removed]",
      "text/plain": [
       "<Figure size 432x288 with 1 Axes>"
      ]
     },
     "metadata": {
      "needs_background": "light"
     },
     "output_type": "display_data"
    }
   ],
   "source": [
    "# Error terms\n",
    "c = [i for i in range(1,8859,1)]\n",
    "fig = plt.figure()\n",
    "plt.plot(c,y_test-y_pred, color=\"blue\", linewidth=2.5, linestyle=\"-\")\n",
    "fig.suptitle('Error Terms', fontsize=20)              # Plot heading \n",
    "plt.xlabel('Index', fontsize=18)                      # X-label\n",
    "plt.ylabel('ytest-ypred', fontsize=16)                # Y-label"
   ]
  },
  {
   "cell_type": "code",
   "execution_count": 504,
   "metadata": {},
   "outputs": [
    {
     "name": "stdout",
     "output_type": "stream",
     "text": [
      "                            OLS Regression Results                            \n",
      "==============================================================================\n",
      "Dep. Variable:                      y   R-squared:                       0.838\n",
      "Model:                            OLS   Adj. R-squared:                  0.837\n",
      "Method:                 Least Squares   F-statistic:                     9679.\n",
      "Date:                Sun, 12 Apr 2020   Prob (F-statistic):               0.00\n",
      "Time:                        23:47:13   Log-Likelihood:            -1.5171e+05\n",
      "No. Observations:               20668   AIC:                         3.034e+05\n",
      "Df Residuals:                   20656   BIC:                         3.035e+05\n",
      "Df Model:                          11                                         \n",
      "Covariance Type:            nonrobust                                         \n",
      "===================================================================================\n",
      "                      coef    std err          t      P>|t|      [0.025      0.975]\n",
      "-----------------------------------------------------------------------------------\n",
      "const             102.8999      6.435     15.990      0.000      90.286     115.513\n",
      "FundedBys           3.0394      0.425      7.143      0.000       2.205       3.873\n",
      "noofdays(1-2)       0.7364      0.005    146.721      0.000       0.727       0.746\n",
      "noofdays(4-3)       0.3540      0.003    112.116      0.000       0.348       0.360\n",
      "Enrollment         -0.0023      0.001     -2.427      0.015      -0.004      -0.000\n",
      "Early Phase 1      19.6553     35.704      0.551      0.582     -50.328      89.638\n",
      "Not Applicable     -0.3338      8.396     -0.040      0.968     -16.791      16.123\n",
      "Phase 1            26.0814     11.516      2.265      0.024       3.509      48.654\n",
      "Phase 1|Phase 2    25.9802     12.365      2.101      0.036       1.743      50.217\n",
      "Phase 2            21.3189      7.138      2.987      0.003       7.328      35.310\n",
      "Phase 2|Phase 3   -19.9584     22.533     -0.886      0.376     -64.125      24.208\n",
      "Phase 3            70.1824      7.418      9.461      0.000      55.642      84.722\n",
      "Phase 4           -40.0261      8.641     -4.632      0.000     -56.964     -23.089\n",
      "==============================================================================\n",
      "Omnibus:                    14905.346   Durbin-Watson:                   2.010\n",
      "Prob(Omnibus):                  0.000   Jarque-Bera (JB):           282865.218\n",
      "Skew:                           3.314   Prob(JB):                         0.00\n",
      "Kurtosis:                      19.868   Cond. No.                     7.90e+18\n",
      "==============================================================================\n",
      "\n",
      "Warnings:\n",
      "[1] Standard Errors assume that the covariance matrix of the errors is correctly specified.\n",
      "[2] The smallest eigenvalue is 2.53e-27. This might indicate that there are\n",
      "strong multicollinearity problems or that the design matrix is singular.\n"
     ]
    }
   ],
   "source": [
    "# import statsmodels.api as sm\n",
    "import statsmodels.api as sm\n",
    "X_train_final = X_train\n",
    "#Unlike SKLearn, statsmodels don't automatically fit a constant, \n",
    "#so you need to use the method sm.add_constant(X) in order to add a constant. \n",
    "X_train_final = sm.add_constant(X_train_final)\n",
    "# create a fitted model in one line\n",
    "lm_final = sm.OLS(y_train,X_train_final).fit()\n",
    "\n",
    "print(lm_final.summary())"
   ]
  },
  {
   "cell_type": "code",
   "execution_count": 521,
   "metadata": {},
   "outputs": [],
   "source": [
    "new_input ='coviddata.csv'\n",
    "ds = pd.read_csv(new_input)"
   ]
  },
  {
   "cell_type": "code",
   "execution_count": 522,
   "metadata": {},
   "outputs": [],
   "source": [
    "ds.columns = ds.columns.str.replace(' ', '') # to remove white spaces"
   ]
  },
  {
   "cell_type": "code",
   "execution_count": 523,
   "metadata": {},
   "outputs": [
    {
     "data": {
      "text/html": [
       "<div>\n",
       "<style scoped>\n",
       "    .dataframe tbody tr th:only-of-type {\n",
       "        vertical-align: middle;\n",
       "    }\n",
       "\n",
       "    .dataframe tbody tr th {\n",
       "        vertical-align: top;\n",
       "    }\n",
       "\n",
       "    .dataframe thead th {\n",
       "        text-align: right;\n",
       "    }\n",
       "</style>\n",
       "<table border=\"1\" class=\"dataframe\">\n",
       "  <thead>\n",
       "    <tr style=\"text-align: right;\">\n",
       "      <th></th>\n",
       "      <th>Rank</th>\n",
       "      <th>NCTNumber</th>\n",
       "      <th>Title</th>\n",
       "      <th>Acronym</th>\n",
       "      <th>Status</th>\n",
       "      <th>StudyResults</th>\n",
       "      <th>Conditions</th>\n",
       "      <th>Interventions</th>\n",
       "      <th>OutcomeMeasures</th>\n",
       "      <th>Sponsor/Collaborators</th>\n",
       "      <th>Gender</th>\n",
       "      <th>Age</th>\n",
       "      <th>Phases</th>\n",
       "      <th>Enrollment</th>\n",
       "      <th>FundedBys</th>\n",
       "      <th>StudyType</th>\n",
       "      <th>StudyDesigns</th>\n",
       "      <th>Studydesign(final)</th>\n",
       "      <th>OtherIDs</th>\n",
       "      <th>StartDate(m)</th>\n",
       "      <th>startdate(d)</th>\n",
       "      <th>startdate(y)</th>\n",
       "      <th>startdate(final)-1</th>\n",
       "      <th>PrimaryCompletionDate(m)</th>\n",
       "      <th>primarycompletion(d)</th>\n",
       "      <th>primarycompletion(y)</th>\n",
       "      <th>primarycompletionfinal-2</th>\n",
       "      <th>CompletionDate(m)</th>\n",
       "      <th>completiondate(d)</th>\n",
       "      <th>completiondate(y)</th>\n",
       "      <th>Completiondate(final)-3</th>\n",
       "      <th>FirstPosted(m)</th>\n",
       "      <th>firstposted(d)</th>\n",
       "      <th>firstposted(y)</th>\n",
       "      <th>firstpostedfinal-4</th>\n",
       "      <th>ResultsFirstPosted</th>\n",
       "      <th>LastUpdatePosted</th>\n",
       "      <th>Locations</th>\n",
       "      <th>StudyDocuments</th>\n",
       "      <th>URL</th>\n",
       "      <th>noofdays(1-3)</th>\n",
       "      <th>noofdays(1-2)</th>\n",
       "      <th>noofdays(1-4)</th>\n",
       "      <th>noofdays(2-3)</th>\n",
       "      <th>noofdays(4-2)</th>\n",
       "      <th>noofdays(4-3)</th>\n",
       "    </tr>\n",
       "  </thead>\n",
       "  <tbody>\n",
       "    <tr>\n",
       "      <td>0</td>\n",
       "      <td>1</td>\n",
       "      <td>NCT04333550</td>\n",
       "      <td>Application of Desferal to Treat COVID-19</td>\n",
       "      <td>NaN</td>\n",
       "      <td>Recruiting</td>\n",
       "      <td>No Results Available</td>\n",
       "      <td>COVID-19</td>\n",
       "      <td>Drug: Deferoxamine</td>\n",
       "      <td>Mortality rate|change in patients clinical man...</td>\n",
       "      <td>Kermanshah University of Medical Sciences</td>\n",
       "      <td>All</td>\n",
       "      <td>3 Years to 99 Years   (Child, Adult, Older Adult)</td>\n",
       "      <td>Phase 1|Phase 2</td>\n",
       "      <td>50</td>\n",
       "      <td>Other</td>\n",
       "      <td>Interventional</td>\n",
       "      <td>Allocation: Randomized|Intervention Model: Par...</td>\n",
       "      <td>Allocation</td>\n",
       "      <td>1398.1224</td>\n",
       "      <td>1</td>\n",
       "      <td>4</td>\n",
       "      <td>2020</td>\n",
       "      <td>04-01-2020</td>\n",
       "      <td>1</td>\n",
       "      <td>9</td>\n",
       "      <td>2020</td>\n",
       "      <td>09-01-2020</td>\n",
       "      <td>1</td>\n",
       "      <td>3</td>\n",
       "      <td>2021</td>\n",
       "      <td>03-01-2021</td>\n",
       "      <td>4</td>\n",
       "      <td>3</td>\n",
       "      <td>2020</td>\n",
       "      <td>03-04-2020</td>\n",
       "      <td>NaN</td>\n",
       "      <td>April 6, 2020</td>\n",
       "      <td>Regenerative Medicine Research Center, Kermans...</td>\n",
       "      <td>NaN</td>\n",
       "      <td>https://ClinicalTrials.gov/show/NCT04333550</td>\n",
       "      <td>359</td>\n",
       "      <td>5</td>\n",
       "      <td>89</td>\n",
       "      <td>354</td>\n",
       "      <td>-84</td>\n",
       "      <td>270</td>\n",
       "    </tr>\n",
       "    <tr>\n",
       "      <td>1</td>\n",
       "      <td>2</td>\n",
       "      <td>NCT04336904</td>\n",
       "      <td>Clinical Study To Evaluate The Performance And...</td>\n",
       "      <td>NaN</td>\n",
       "      <td>Active, not recruiting</td>\n",
       "      <td>No Results Available</td>\n",
       "      <td>COVID-19</td>\n",
       "      <td>Drug: Favipiravir|Other: Placebo</td>\n",
       "      <td>Time from randomization to clinical recovery|T...</td>\n",
       "      <td>Giuliano Rizzardini|ASST Fatebenefratelli Sacco</td>\n",
       "      <td>All</td>\n",
       "      <td>18 Years to 75 Years   (Adult, Older Adult)</td>\n",
       "      <td>Phase 3</td>\n",
       "      <td>100</td>\n",
       "      <td>Other</td>\n",
       "      <td>Interventional</td>\n",
       "      <td>Allocation: Randomized|Intervention Model: Par...</td>\n",
       "      <td>Allocation</td>\n",
       "      <td>HS216C17-PHASE III</td>\n",
       "      <td>3</td>\n",
       "      <td>25</td>\n",
       "      <td>2020</td>\n",
       "      <td>25-03-2020</td>\n",
       "      <td>1</td>\n",
       "      <td>7</td>\n",
       "      <td>2020</td>\n",
       "      <td>07-01-2020</td>\n",
       "      <td>1</td>\n",
       "      <td>7</td>\n",
       "      <td>2020</td>\n",
       "      <td>07-01-2020</td>\n",
       "      <td>4</td>\n",
       "      <td>7</td>\n",
       "      <td>2020</td>\n",
       "      <td>07-04-2020</td>\n",
       "      <td>NaN</td>\n",
       "      <td>April 8, 2020</td>\n",
       "      <td>Asst Fatebenefratelli Sacco, Milano, Italy</td>\n",
       "      <td>NaN</td>\n",
       "      <td>https://ClinicalTrials.gov/show/NCT04336904</td>\n",
       "      <td>-78</td>\n",
       "      <td>-78</td>\n",
       "      <td>12</td>\n",
       "      <td>0</td>\n",
       "      <td>-90</td>\n",
       "      <td>-90</td>\n",
       "    </tr>\n",
       "  </tbody>\n",
       "</table>\n",
       "</div>"
      ],
      "text/plain": [
       "   Rank    NCTNumber                                              Title  \\\n",
       "0     1  NCT04333550          Application of Desferal to Treat COVID-19   \n",
       "1     2  NCT04336904  Clinical Study To Evaluate The Performance And...   \n",
       "\n",
       "  Acronym                  Status          StudyResults Conditions  \\\n",
       "0     NaN              Recruiting  No Results Available   COVID-19   \n",
       "1     NaN  Active, not recruiting  No Results Available   COVID-19   \n",
       "\n",
       "                      Interventions  \\\n",
       "0                Drug: Deferoxamine   \n",
       "1  Drug: Favipiravir|Other: Placebo   \n",
       "\n",
       "                                     OutcomeMeasures  \\\n",
       "0  Mortality rate|change in patients clinical man...   \n",
       "1  Time from randomization to clinical recovery|T...   \n",
       "\n",
       "                             Sponsor/Collaborators Gender  \\\n",
       "0        Kermanshah University of Medical Sciences    All   \n",
       "1  Giuliano Rizzardini|ASST Fatebenefratelli Sacco    All   \n",
       "\n",
       "                                                 Age           Phases  \\\n",
       "0  3 Years to 99 Years   (Child, Adult, Older Adult)  Phase 1|Phase 2   \n",
       "1        18 Years to 75 Years   (Adult, Older Adult)          Phase 3   \n",
       "\n",
       "   Enrollment FundedBys       StudyType  \\\n",
       "0          50     Other  Interventional   \n",
       "1         100     Other  Interventional   \n",
       "\n",
       "                                        StudyDesigns Studydesign(final)  \\\n",
       "0  Allocation: Randomized|Intervention Model: Par...         Allocation   \n",
       "1  Allocation: Randomized|Intervention Model: Par...         Allocation   \n",
       "\n",
       "             OtherIDs  StartDate(m)  startdate(d)  startdate(y)  \\\n",
       "0           1398.1224             1             4          2020   \n",
       "1  HS216C17-PHASE III             3            25          2020   \n",
       "\n",
       "  startdate(final)-1  PrimaryCompletionDate(m)  primarycompletion(d)  \\\n",
       "0         04-01-2020                         1                     9   \n",
       "1         25-03-2020                         1                     7   \n",
       "\n",
       "   primarycompletion(y) primarycompletionfinal-2  CompletionDate(m)  \\\n",
       "0                  2020               09-01-2020                  1   \n",
       "1                  2020               07-01-2020                  1   \n",
       "\n",
       "   completiondate(d)  completiondate(y) Completiondate(final)-3  \\\n",
       "0                  3               2021              03-01-2021   \n",
       "1                  7               2020              07-01-2020   \n",
       "\n",
       "   FirstPosted(m)  firstposted(d)  firstposted(y) firstpostedfinal-4  \\\n",
       "0               4               3            2020         03-04-2020   \n",
       "1               4               7            2020         07-04-2020   \n",
       "\n",
       "   ResultsFirstPosted LastUpdatePosted  \\\n",
       "0                 NaN    April 6, 2020   \n",
       "1                 NaN    April 8, 2020   \n",
       "\n",
       "                                           Locations StudyDocuments  \\\n",
       "0  Regenerative Medicine Research Center, Kermans...            NaN   \n",
       "1         Asst Fatebenefratelli Sacco, Milano, Italy            NaN   \n",
       "\n",
       "                                           URL  noofdays(1-3)  noofdays(1-2)  \\\n",
       "0  https://ClinicalTrials.gov/show/NCT04333550            359              5   \n",
       "1  https://ClinicalTrials.gov/show/NCT04336904            -78            -78   \n",
       "\n",
       "   noofdays(1-4)  noofdays(2-3)  noofdays(4-2)  noofdays(4-3)  \n",
       "0             89            354            -84            270  \n",
       "1             12              0            -90            -90  "
      ]
     },
     "execution_count": 523,
     "metadata": {},
     "output_type": "execute_result"
    }
   ],
   "source": [
    "ds.head(2) # view of first five records"
   ]
  },
  {
   "cell_type": "code",
   "execution_count": 524,
   "metadata": {},
   "outputs": [],
   "source": [
    "ds1=ds[['FundedBys','noofdays(1-2)','noofdays(4-3)','Phases','Enrollment']]"
   ]
  },
  {
   "cell_type": "code",
   "execution_count": 525,
   "metadata": {},
   "outputs": [
    {
     "data": {
      "text/html": [
       "<div>\n",
       "<style scoped>\n",
       "    .dataframe tbody tr th:only-of-type {\n",
       "        vertical-align: middle;\n",
       "    }\n",
       "\n",
       "    .dataframe tbody tr th {\n",
       "        vertical-align: top;\n",
       "    }\n",
       "\n",
       "    .dataframe thead th {\n",
       "        text-align: right;\n",
       "    }\n",
       "</style>\n",
       "<table border=\"1\" class=\"dataframe\">\n",
       "  <thead>\n",
       "    <tr style=\"text-align: right;\">\n",
       "      <th></th>\n",
       "      <th>FundedBys</th>\n",
       "      <th>noofdays(1-2)</th>\n",
       "      <th>noofdays(4-3)</th>\n",
       "      <th>Phases</th>\n",
       "      <th>Enrollment</th>\n",
       "    </tr>\n",
       "  </thead>\n",
       "  <tbody>\n",
       "    <tr>\n",
       "      <td>0</td>\n",
       "      <td>Other</td>\n",
       "      <td>5</td>\n",
       "      <td>270</td>\n",
       "      <td>Phase 1|Phase 2</td>\n",
       "      <td>50</td>\n",
       "    </tr>\n",
       "    <tr>\n",
       "      <td>1</td>\n",
       "      <td>Other</td>\n",
       "      <td>-78</td>\n",
       "      <td>-90</td>\n",
       "      <td>Phase 3</td>\n",
       "      <td>100</td>\n",
       "    </tr>\n",
       "    <tr>\n",
       "      <td>2</td>\n",
       "      <td>Other</td>\n",
       "      <td>720</td>\n",
       "      <td>711</td>\n",
       "      <td>Not Applicable</td>\n",
       "      <td>10000000</td>\n",
       "    </tr>\n",
       "    <tr>\n",
       "      <td>3</td>\n",
       "      <td>Other</td>\n",
       "      <td>357</td>\n",
       "      <td>357</td>\n",
       "      <td>Not Applicable</td>\n",
       "      <td>3170</td>\n",
       "    </tr>\n",
       "    <tr>\n",
       "      <td>4</td>\n",
       "      <td>Other</td>\n",
       "      <td>120</td>\n",
       "      <td>179</td>\n",
       "      <td>Phase 2|Phase 3</td>\n",
       "      <td>550</td>\n",
       "    </tr>\n",
       "  </tbody>\n",
       "</table>\n",
       "</div>"
      ],
      "text/plain": [
       "  FundedBys  noofdays(1-2)  noofdays(4-3)           Phases  Enrollment\n",
       "0     Other              5            270  Phase 1|Phase 2          50\n",
       "1     Other            -78            -90          Phase 3         100\n",
       "2     Other            720            711   Not Applicable    10000000\n",
       "3     Other            357            357   Not Applicable        3170\n",
       "4     Other            120            179  Phase 2|Phase 3         550"
      ]
     },
     "execution_count": 525,
     "metadata": {},
     "output_type": "execute_result"
    }
   ],
   "source": [
    "ds1.head()"
   ]
  },
  {
   "cell_type": "code",
   "execution_count": 526,
   "metadata": {},
   "outputs": [],
   "source": [
    "#one_hot = pd.get_dummies(ds1[\"Studydesign(final)\"])\n",
    "# Drop column B as it is now encoded\n",
    "\n",
    "# Join the encoded df\n",
    "\n"
   ]
  },
  {
   "cell_type": "code",
   "execution_count": 527,
   "metadata": {},
   "outputs": [],
   "source": [
    "#one_hot.head()"
   ]
  },
  {
   "cell_type": "code",
   "execution_count": 528,
   "metadata": {},
   "outputs": [],
   "source": [
    "#ds1 = ds1.drop([\"Studydesign(final)\"],axis = 1)"
   ]
  },
  {
   "cell_type": "code",
   "execution_count": 529,
   "metadata": {},
   "outputs": [],
   "source": [
    "#ds1 = ds1.join(one_hot)"
   ]
  },
  {
   "cell_type": "code",
   "execution_count": 530,
   "metadata": {},
   "outputs": [
    {
     "data": {
      "text/html": [
       "<div>\n",
       "<style scoped>\n",
       "    .dataframe tbody tr th:only-of-type {\n",
       "        vertical-align: middle;\n",
       "    }\n",
       "\n",
       "    .dataframe tbody tr th {\n",
       "        vertical-align: top;\n",
       "    }\n",
       "\n",
       "    .dataframe thead th {\n",
       "        text-align: right;\n",
       "    }\n",
       "</style>\n",
       "<table border=\"1\" class=\"dataframe\">\n",
       "  <thead>\n",
       "    <tr style=\"text-align: right;\">\n",
       "      <th></th>\n",
       "      <th>FundedBys</th>\n",
       "      <th>noofdays(1-2)</th>\n",
       "      <th>noofdays(4-3)</th>\n",
       "      <th>Phases</th>\n",
       "      <th>Enrollment</th>\n",
       "    </tr>\n",
       "  </thead>\n",
       "  <tbody>\n",
       "    <tr>\n",
       "      <td>0</td>\n",
       "      <td>Other</td>\n",
       "      <td>5</td>\n",
       "      <td>270</td>\n",
       "      <td>Phase 1|Phase 2</td>\n",
       "      <td>50</td>\n",
       "    </tr>\n",
       "    <tr>\n",
       "      <td>1</td>\n",
       "      <td>Other</td>\n",
       "      <td>-78</td>\n",
       "      <td>-90</td>\n",
       "      <td>Phase 3</td>\n",
       "      <td>100</td>\n",
       "    </tr>\n",
       "  </tbody>\n",
       "</table>\n",
       "</div>"
      ],
      "text/plain": [
       "  FundedBys  noofdays(1-2)  noofdays(4-3)           Phases  Enrollment\n",
       "0     Other              5            270  Phase 1|Phase 2          50\n",
       "1     Other            -78            -90          Phase 3         100"
      ]
     },
     "execution_count": 530,
     "metadata": {},
     "output_type": "execute_result"
    }
   ],
   "source": [
    "ds1.head(2)"
   ]
  },
  {
   "cell_type": "code",
   "execution_count": 531,
   "metadata": {},
   "outputs": [
    {
     "data": {
      "text/html": [
       "<div>\n",
       "<style scoped>\n",
       "    .dataframe tbody tr th:only-of-type {\n",
       "        vertical-align: middle;\n",
       "    }\n",
       "\n",
       "    .dataframe tbody tr th {\n",
       "        vertical-align: top;\n",
       "    }\n",
       "\n",
       "    .dataframe thead th {\n",
       "        text-align: right;\n",
       "    }\n",
       "</style>\n",
       "<table border=\"1\" class=\"dataframe\">\n",
       "  <thead>\n",
       "    <tr style=\"text-align: right;\">\n",
       "      <th></th>\n",
       "      <th>FundedBys</th>\n",
       "      <th>noofdays(1-2)</th>\n",
       "      <th>noofdays(4-3)</th>\n",
       "      <th>Enrollment</th>\n",
       "      <th>Early Phase 1</th>\n",
       "      <th>Not Applicable</th>\n",
       "      <th>Phase 1</th>\n",
       "      <th>Phase 1|Phase 2</th>\n",
       "      <th>Phase 2</th>\n",
       "      <th>Phase 2|Phase 3</th>\n",
       "      <th>Phase 3</th>\n",
       "      <th>Phase 4</th>\n",
       "    </tr>\n",
       "  </thead>\n",
       "  <tbody>\n",
       "    <tr>\n",
       "      <td>0</td>\n",
       "      <td>Other</td>\n",
       "      <td>5</td>\n",
       "      <td>270</td>\n",
       "      <td>50</td>\n",
       "      <td>0</td>\n",
       "      <td>0</td>\n",
       "      <td>0</td>\n",
       "      <td>1</td>\n",
       "      <td>0</td>\n",
       "      <td>0</td>\n",
       "      <td>0</td>\n",
       "      <td>0</td>\n",
       "    </tr>\n",
       "    <tr>\n",
       "      <td>1</td>\n",
       "      <td>Other</td>\n",
       "      <td>-78</td>\n",
       "      <td>-90</td>\n",
       "      <td>100</td>\n",
       "      <td>0</td>\n",
       "      <td>0</td>\n",
       "      <td>0</td>\n",
       "      <td>0</td>\n",
       "      <td>0</td>\n",
       "      <td>0</td>\n",
       "      <td>1</td>\n",
       "      <td>0</td>\n",
       "    </tr>\n",
       "  </tbody>\n",
       "</table>\n",
       "</div>"
      ],
      "text/plain": [
       "  FundedBys  noofdays(1-2)  noofdays(4-3)  Enrollment  Early Phase 1  \\\n",
       "0     Other              5            270          50              0   \n",
       "1     Other            -78            -90         100              0   \n",
       "\n",
       "   Not Applicable  Phase 1  Phase 1|Phase 2  Phase 2  Phase 2|Phase 3  \\\n",
       "0               0        0                1        0                0   \n",
       "1               0        0                0        0                0   \n",
       "\n",
       "   Phase 3  Phase 4  \n",
       "0        0        0  \n",
       "1        1        0  "
      ]
     },
     "execution_count": 531,
     "metadata": {},
     "output_type": "execute_result"
    }
   ],
   "source": [
    "Phases = pd.get_dummies(ds1[\"Phases\"])\n",
    "# Drop column B as it is now encoded\n",
    "ds1 = ds1.drop([\"Phases\"],axis = 1)\n",
    "# Join the encoded df\n",
    "ds1 = ds1.join(Phases)\n",
    "ds1.head(2)"
   ]
  },
  {
   "cell_type": "code",
   "execution_count": 532,
   "metadata": {},
   "outputs": [],
   "source": [
    "from sklearn import preprocessing \n",
    "  \n",
    "# label_encoder object knows how to understand word labels. \n",
    "label_encoder = preprocessing.LabelEncoder() \n",
    "  \n",
    "ds1[\"FundedBys\"]= label_encoder.fit_transform(ds1[\"FundedBys\"]) \n",
    "#dataset[\"Phases\"]= label_encoder.fit_transform(dataset[\"Phases\"]) "
   ]
  },
  {
   "cell_type": "code",
   "execution_count": 533,
   "metadata": {},
   "outputs": [
    {
     "data": {
      "text/html": [
       "<div>\n",
       "<style scoped>\n",
       "    .dataframe tbody tr th:only-of-type {\n",
       "        vertical-align: middle;\n",
       "    }\n",
       "\n",
       "    .dataframe tbody tr th {\n",
       "        vertical-align: top;\n",
       "    }\n",
       "\n",
       "    .dataframe thead th {\n",
       "        text-align: right;\n",
       "    }\n",
       "</style>\n",
       "<table border=\"1\" class=\"dataframe\">\n",
       "  <thead>\n",
       "    <tr style=\"text-align: right;\">\n",
       "      <th></th>\n",
       "      <th>FundedBys</th>\n",
       "      <th>noofdays(1-2)</th>\n",
       "      <th>noofdays(4-3)</th>\n",
       "      <th>Enrollment</th>\n",
       "      <th>Early Phase 1</th>\n",
       "      <th>Not Applicable</th>\n",
       "      <th>Phase 1</th>\n",
       "      <th>Phase 1|Phase 2</th>\n",
       "      <th>Phase 2</th>\n",
       "      <th>Phase 2|Phase 3</th>\n",
       "      <th>Phase 3</th>\n",
       "      <th>Phase 4</th>\n",
       "    </tr>\n",
       "  </thead>\n",
       "  <tbody>\n",
       "    <tr>\n",
       "      <td>0</td>\n",
       "      <td>3</td>\n",
       "      <td>5</td>\n",
       "      <td>270</td>\n",
       "      <td>50</td>\n",
       "      <td>0</td>\n",
       "      <td>0</td>\n",
       "      <td>0</td>\n",
       "      <td>1</td>\n",
       "      <td>0</td>\n",
       "      <td>0</td>\n",
       "      <td>0</td>\n",
       "      <td>0</td>\n",
       "    </tr>\n",
       "    <tr>\n",
       "      <td>1</td>\n",
       "      <td>3</td>\n",
       "      <td>-78</td>\n",
       "      <td>-90</td>\n",
       "      <td>100</td>\n",
       "      <td>0</td>\n",
       "      <td>0</td>\n",
       "      <td>0</td>\n",
       "      <td>0</td>\n",
       "      <td>0</td>\n",
       "      <td>0</td>\n",
       "      <td>1</td>\n",
       "      <td>0</td>\n",
       "    </tr>\n",
       "    <tr>\n",
       "      <td>2</td>\n",
       "      <td>3</td>\n",
       "      <td>720</td>\n",
       "      <td>711</td>\n",
       "      <td>10000000</td>\n",
       "      <td>0</td>\n",
       "      <td>1</td>\n",
       "      <td>0</td>\n",
       "      <td>0</td>\n",
       "      <td>0</td>\n",
       "      <td>0</td>\n",
       "      <td>0</td>\n",
       "      <td>0</td>\n",
       "    </tr>\n",
       "    <tr>\n",
       "      <td>3</td>\n",
       "      <td>3</td>\n",
       "      <td>357</td>\n",
       "      <td>357</td>\n",
       "      <td>3170</td>\n",
       "      <td>0</td>\n",
       "      <td>1</td>\n",
       "      <td>0</td>\n",
       "      <td>0</td>\n",
       "      <td>0</td>\n",
       "      <td>0</td>\n",
       "      <td>0</td>\n",
       "      <td>0</td>\n",
       "    </tr>\n",
       "    <tr>\n",
       "      <td>4</td>\n",
       "      <td>3</td>\n",
       "      <td>120</td>\n",
       "      <td>179</td>\n",
       "      <td>550</td>\n",
       "      <td>0</td>\n",
       "      <td>0</td>\n",
       "      <td>0</td>\n",
       "      <td>0</td>\n",
       "      <td>0</td>\n",
       "      <td>1</td>\n",
       "      <td>0</td>\n",
       "      <td>0</td>\n",
       "    </tr>\n",
       "  </tbody>\n",
       "</table>\n",
       "</div>"
      ],
      "text/plain": [
       "   FundedBys  noofdays(1-2)  noofdays(4-3)  Enrollment  Early Phase 1  \\\n",
       "0          3              5            270          50              0   \n",
       "1          3            -78            -90         100              0   \n",
       "2          3            720            711    10000000              0   \n",
       "3          3            357            357        3170              0   \n",
       "4          3            120            179         550              0   \n",
       "\n",
       "   Not Applicable  Phase 1  Phase 1|Phase 2  Phase 2  Phase 2|Phase 3  \\\n",
       "0               0        0                1        0                0   \n",
       "1               0        0                0        0                0   \n",
       "2               1        0                0        0                0   \n",
       "3               1        0                0        0                0   \n",
       "4               0        0                0        0                1   \n",
       "\n",
       "   Phase 3  Phase 4  \n",
       "0        0        0  \n",
       "1        1        0  \n",
       "2        0        0  \n",
       "3        0        0  \n",
       "4        0        0  "
      ]
     },
     "execution_count": 533,
     "metadata": {},
     "output_type": "execute_result"
    }
   ],
   "source": [
    "ds1.head()"
   ]
  },
  {
   "cell_type": "code",
   "execution_count": 534,
   "metadata": {},
   "outputs": [
    {
     "data": {
      "text/html": [
       "<div>\n",
       "<style scoped>\n",
       "    .dataframe tbody tr th:only-of-type {\n",
       "        vertical-align: middle;\n",
       "    }\n",
       "\n",
       "    .dataframe tbody tr th {\n",
       "        vertical-align: top;\n",
       "    }\n",
       "\n",
       "    .dataframe thead th {\n",
       "        text-align: right;\n",
       "    }\n",
       "</style>\n",
       "<table border=\"1\" class=\"dataframe\">\n",
       "  <thead>\n",
       "    <tr style=\"text-align: right;\">\n",
       "      <th></th>\n",
       "      <th>FundedBys</th>\n",
       "      <th>noofdays(1-2)</th>\n",
       "      <th>noofdays(4-3)</th>\n",
       "      <th>noofdays(1-3)</th>\n",
       "      <th>Enrollment</th>\n",
       "      <th>Early Phase 1</th>\n",
       "      <th>Not Applicable</th>\n",
       "      <th>Phase 1</th>\n",
       "      <th>Phase 1|Phase 2</th>\n",
       "      <th>Phase 2</th>\n",
       "      <th>Phase 2|Phase 3</th>\n",
       "      <th>Phase 3</th>\n",
       "      <th>Phase 4</th>\n",
       "    </tr>\n",
       "  </thead>\n",
       "  <tbody>\n",
       "    <tr>\n",
       "      <td>0</td>\n",
       "      <td>18</td>\n",
       "      <td>359</td>\n",
       "      <td>153</td>\n",
       "      <td>360</td>\n",
       "      <td>237</td>\n",
       "      <td>0</td>\n",
       "      <td>1</td>\n",
       "      <td>0</td>\n",
       "      <td>0</td>\n",
       "      <td>0</td>\n",
       "      <td>0</td>\n",
       "      <td>0</td>\n",
       "      <td>0</td>\n",
       "    </tr>\n",
       "    <tr>\n",
       "      <td>1</td>\n",
       "      <td>14</td>\n",
       "      <td>362</td>\n",
       "      <td>301</td>\n",
       "      <td>362</td>\n",
       "      <td>4</td>\n",
       "      <td>0</td>\n",
       "      <td>0</td>\n",
       "      <td>1</td>\n",
       "      <td>0</td>\n",
       "      <td>0</td>\n",
       "      <td>0</td>\n",
       "      <td>0</td>\n",
       "      <td>0</td>\n",
       "    </tr>\n",
       "    <tr>\n",
       "      <td>2</td>\n",
       "      <td>14</td>\n",
       "      <td>1308</td>\n",
       "      <td>1911</td>\n",
       "      <td>2302</td>\n",
       "      <td>40</td>\n",
       "      <td>0</td>\n",
       "      <td>0</td>\n",
       "      <td>0</td>\n",
       "      <td>0</td>\n",
       "      <td>0</td>\n",
       "      <td>0</td>\n",
       "      <td>1</td>\n",
       "      <td>0</td>\n",
       "    </tr>\n",
       "    <tr>\n",
       "      <td>3</td>\n",
       "      <td>15</td>\n",
       "      <td>1079</td>\n",
       "      <td>1024</td>\n",
       "      <td>1079</td>\n",
       "      <td>33</td>\n",
       "      <td>0</td>\n",
       "      <td>0</td>\n",
       "      <td>0</td>\n",
       "      <td>0</td>\n",
       "      <td>1</td>\n",
       "      <td>0</td>\n",
       "      <td>0</td>\n",
       "      <td>0</td>\n",
       "    </tr>\n",
       "    <tr>\n",
       "      <td>4</td>\n",
       "      <td>14</td>\n",
       "      <td>1441</td>\n",
       "      <td>1065</td>\n",
       "      <td>1441</td>\n",
       "      <td>12</td>\n",
       "      <td>0</td>\n",
       "      <td>1</td>\n",
       "      <td>0</td>\n",
       "      <td>0</td>\n",
       "      <td>0</td>\n",
       "      <td>0</td>\n",
       "      <td>0</td>\n",
       "      <td>0</td>\n",
       "    </tr>\n",
       "  </tbody>\n",
       "</table>\n",
       "</div>"
      ],
      "text/plain": [
       "   FundedBys  noofdays(1-2)  noofdays(4-3)  noofdays(1-3)  Enrollment  \\\n",
       "0         18            359            153            360         237   \n",
       "1         14            362            301            362           4   \n",
       "2         14           1308           1911           2302          40   \n",
       "3         15           1079           1024           1079          33   \n",
       "4         14           1441           1065           1441          12   \n",
       "\n",
       "   Early Phase 1  Not Applicable  Phase 1  Phase 1|Phase 2  Phase 2  \\\n",
       "0              0               1        0                0        0   \n",
       "1              0               0        1                0        0   \n",
       "2              0               0        0                0        0   \n",
       "3              0               0        0                0        1   \n",
       "4              0               1        0                0        0   \n",
       "\n",
       "   Phase 2|Phase 3  Phase 3  Phase 4  \n",
       "0                0        0        0  \n",
       "1                0        0        0  \n",
       "2                0        1        0  \n",
       "3                0        0        0  \n",
       "4                0        0        0  "
      ]
     },
     "execution_count": 534,
     "metadata": {},
     "output_type": "execute_result"
    }
   ],
   "source": [
    "dataset.head()"
   ]
  },
  {
   "cell_type": "code",
   "execution_count": 535,
   "metadata": {},
   "outputs": [],
   "source": [
    "my_prediction=regressor.predict(ds1)"
   ]
  },
  {
   "cell_type": "code",
   "execution_count": null,
   "metadata": {},
   "outputs": [],
   "source": []
  },
  {
   "cell_type": "code",
   "execution_count": 537,
   "metadata": {},
   "outputs": [
    {
     "ename": "AttributeError",
     "evalue": "'numpy.ndarray' object has no attribute 'head'",
     "output_type": "error",
     "traceback": [
      "\u001b[1;31m---------------------------------------------------------------------------\u001b[0m",
      "\u001b[1;31mAttributeError\u001b[0m                            Traceback (most recent call last)",
      "\u001b[1;32m<ipython-input-537-2fc6dd81b718>\u001b[0m in \u001b[0;36m<module>\u001b[1;34m\u001b[0m\n\u001b[1;32m----> 1\u001b[1;33m \u001b[0mmy_prediction\u001b[0m\u001b[1;33m.\u001b[0m\u001b[0mhead\u001b[0m\u001b[1;33m(\u001b[0m\u001b[1;33m)\u001b[0m\u001b[1;33m\u001b[0m\u001b[1;33m\u001b[0m\u001b[0m\n\u001b[0m",
      "\u001b[1;31mAttributeError\u001b[0m: 'numpy.ndarray' object has no attribute 'head'"
     ]
    }
   ],
   "source": [
    "my_prediction.head()"
   ]
  },
  {
   "cell_type": "code",
   "execution_count": 538,
   "metadata": {},
   "outputs": [],
   "source": [
    "#actual_value=ds[['noofdays(1-3)']]"
   ]
  },
  {
   "cell_type": "code",
   "execution_count": 539,
   "metadata": {},
   "outputs": [],
   "source": [
    "actual_value=ds.loc[:,['noofdays(1-3)']].values"
   ]
  },
  {
   "cell_type": "code",
   "execution_count": 540,
   "metadata": {},
   "outputs": [
    {
     "ename": "AttributeError",
     "evalue": "'numpy.ndarray' object has no attribute 'head'",
     "output_type": "error",
     "traceback": [
      "\u001b[1;31m---------------------------------------------------------------------------\u001b[0m",
      "\u001b[1;31mAttributeError\u001b[0m                            Traceback (most recent call last)",
      "\u001b[1;32m<ipython-input-540-dc118f120cee>\u001b[0m in \u001b[0;36m<module>\u001b[1;34m\u001b[0m\n\u001b[1;32m----> 1\u001b[1;33m \u001b[0mactual_value\u001b[0m\u001b[1;33m.\u001b[0m\u001b[0mhead\u001b[0m\u001b[1;33m(\u001b[0m\u001b[1;33m)\u001b[0m\u001b[1;33m\u001b[0m\u001b[1;33m\u001b[0m\u001b[0m\n\u001b[0m",
      "\u001b[1;31mAttributeError\u001b[0m: 'numpy.ndarray' object has no attribute 'head'"
     ]
    }
   ],
   "source": [
    "actual_value.head()"
   ]
  },
  {
   "cell_type": "code",
   "execution_count": 541,
   "metadata": {},
   "outputs": [
    {
     "data": {
      "text/html": [
       "<div>\n",
       "<style scoped>\n",
       "    .dataframe tbody tr th:only-of-type {\n",
       "        vertical-align: middle;\n",
       "    }\n",
       "\n",
       "    .dataframe tbody tr th {\n",
       "        vertical-align: top;\n",
       "    }\n",
       "\n",
       "    .dataframe thead th {\n",
       "        text-align: right;\n",
       "    }\n",
       "</style>\n",
       "<table border=\"1\" class=\"dataframe\">\n",
       "  <thead>\n",
       "    <tr style=\"text-align: right;\">\n",
       "      <th></th>\n",
       "      <th>actual_value</th>\n",
       "      <th>Predicted</th>\n",
       "    </tr>\n",
       "  </thead>\n",
       "  <tbody>\n",
       "    <tr>\n",
       "      <td>0</td>\n",
       "      <td>359</td>\n",
       "      <td>237.147543</td>\n",
       "    </tr>\n",
       "    <tr>\n",
       "      <td>1</td>\n",
       "      <td>-78</td>\n",
       "      <td>92.662919</td>\n",
       "    </tr>\n",
       "    <tr>\n",
       "      <td>2</td>\n",
       "      <td>720</td>\n",
       "      <td>-22597.917944</td>\n",
       "    </tr>\n",
       "    <tr>\n",
       "      <td>3</td>\n",
       "      <td>357</td>\n",
       "      <td>493.524393</td>\n",
       "    </tr>\n",
       "    <tr>\n",
       "      <td>4</td>\n",
       "      <td>150</td>\n",
       "      <td>242.507312</td>\n",
       "    </tr>\n",
       "    <tr>\n",
       "      <td>...</td>\n",
       "      <td>...</td>\n",
       "      <td>...</td>\n",
       "    </tr>\n",
       "    <tr>\n",
       "      <td>399</td>\n",
       "      <td>900</td>\n",
       "      <td>1079.842674</td>\n",
       "    </tr>\n",
       "    <tr>\n",
       "      <td>400</td>\n",
       "      <td>55</td>\n",
       "      <td>220.016225</td>\n",
       "    </tr>\n",
       "    <tr>\n",
       "      <td>401</td>\n",
       "      <td>1260</td>\n",
       "      <td>688.065600</td>\n",
       "    </tr>\n",
       "    <tr>\n",
       "      <td>402</td>\n",
       "      <td>85</td>\n",
       "      <td>183.502355</td>\n",
       "    </tr>\n",
       "    <tr>\n",
       "      <td>403</td>\n",
       "      <td>166</td>\n",
       "      <td>276.479812</td>\n",
       "    </tr>\n",
       "  </tbody>\n",
       "</table>\n",
       "<p>404 rows × 2 columns</p>\n",
       "</div>"
      ],
      "text/plain": [
       "     actual_value     Predicted\n",
       "0             359    237.147543\n",
       "1             -78     92.662919\n",
       "2             720 -22597.917944\n",
       "3             357    493.524393\n",
       "4             150    242.507312\n",
       "..            ...           ...\n",
       "399           900   1079.842674\n",
       "400            55    220.016225\n",
       "401          1260    688.065600\n",
       "402            85    183.502355\n",
       "403           166    276.479812\n",
       "\n",
       "[404 rows x 2 columns]"
      ]
     },
     "execution_count": 541,
     "metadata": {},
     "output_type": "execute_result"
    }
   ],
   "source": [
    "ds3= pd.DataFrame({'actual_value': actual_value.flatten(), 'Predicted': my_prediction.flatten()})\n",
    "ds3"
   ]
  },
  {
   "cell_type": "markdown",
   "metadata": {},
   "source": [
    "ds3.to_csv('C:\\Users\\indir\\OneDrive\\Desktop\\predictedvalues.csv')"
   ]
  },
  {
   "cell_type": "code",
   "execution_count": 542,
   "metadata": {},
   "outputs": [],
   "source": [
    "ds3.to_csv(\"C:\\\\Users\\indir\\OneDrive\\Desktop\\predictedvalues.csv\")"
   ]
  },
  {
   "cell_type": "code",
   "execution_count": null,
   "metadata": {},
   "outputs": [],
   "source": [
    "X_test.head()"
   ]
  },
  {
   "cell_type": "code",
   "execution_count": null,
   "metadata": {},
   "outputs": [],
   "source": [
    "ds1.head()"
   ]
  },
  {
   "cell_type": "code",
   "execution_count": null,
   "metadata": {},
   "outputs": [],
   "source": []
  },
  {
   "cell_type": "code",
   "execution_count": null,
   "metadata": {},
   "outputs": [],
   "source": []
  },
  {
   "cell_type": "code",
   "execution_count": null,
   "metadata": {},
   "outputs": [],
   "source": [
    "\n"
   ]
  }
 ],
 "metadata": {
  "kernelspec": {
   "display_name": "Python 3",
   "language": "python",
   "name": "python3"
  },
  "language_info": {
   "codemirror_mode": {
    "name": "ipython",
    "version": 3
   },
   "file_extension": ".py",
   "mimetype": "text/x-python",
   "name": "python",
   "nbconvert_exporter": "python",
   "pygments_lexer": "ipython3",
   "version": "3.7.4"
  }
 },
 "nbformat": 4,
 "nbformat_minor": 2
}
